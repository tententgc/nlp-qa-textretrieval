{
  "nbformat": 4,
  "nbformat_minor": 0,
  "metadata": {
    "colab": {
      "provenance": []
    },
    "kernelspec": {
      "name": "python3",
      "display_name": "Python 3"
    },
    "language_info": {
      "name": "python"
    },
    "gpuClass": "standard"
  },
  "cells": [
    {
      "cell_type": "code",
      "execution_count": null,
      "metadata": {
        "id": "ejgL8k0_G3lI"
      },
      "outputs": [],
      "source": [
        "!pip install -q kaggle"
      ]
    },
    {
      "cell_type": "markdown",
      "source": [
        "# download data set & preparation"
      ],
      "metadata": {
        "id": "DKImcG4vvKBz"
      }
    },
    {
      "cell_type": "code",
      "source": [
        "import os\n",
        "!mkdir ~/.kaggle\n",
        "!cp /content/drive/MyDrive/kaggle.json ~/.kaggle/ #copy api key ---- depend on your directory -- my directory is .../colab/..\n",
        "!chmod 600 ~/.kaggle/kaggle.json\n",
        "!kaggle datasets list\n",
        "!kaggle competitions download -c ss3-nlp-cmsk-chatbot"
      ],
      "metadata": {
        "id": "vL6gORj1yHRZ",
        "colab": {
          "base_uri": "https://localhost:8080/"
        },
        "outputId": "f0f77640-3b10-4eba-e2ef-5747505948a1"
      },
      "execution_count": null,
      "outputs": [
        {
          "output_type": "stream",
          "name": "stdout",
          "text": [
            "mkdir: cannot create directory ‘/root/.kaggle’: File exists\n",
            "Warning: Looks like you're using an outdated API Version, please consider updating (server 1.5.13 / client 1.5.12)\n",
            "ref                                                                title                                            size  lastUpdated          downloadCount  voteCount  usabilityRating  \n",
            "-----------------------------------------------------------------  ----------------------------------------------  -----  -------------------  -------------  ---------  ---------------  \n",
            "themrityunjaypathak/covid-cases-and-deaths-worldwide               Covid Cases and Deaths WorldWide                  8KB  2023-02-01 12:22:51           7259        236  1.0              \n",
            "amaanansari09/top-100-songs                                        Top 100 songs                                     6KB  2023-02-16 18:55:35           1421         52  1.0              \n",
            "datascientistanna/customers-dataset                                Shop Customer Data                               23KB  2023-02-07 18:42:21           5804        137  1.0              \n",
            "thedevastator/airbnb-prices-in-european-cities                     Airbnb Prices in European Cities                  4MB  2023-02-20 09:48:04           1510         38  1.0              \n",
            "rajugc/imdb-top-250-movies-dataset                                 IMDB Top 250 Movies Dataset                      52KB  2023-02-11 16:02:01           2620         65  1.0              \n",
            "ksabishek/product-sales-data                                       Product Sales Data                              135KB  2023-02-11 07:08:50           1132         35  1.0              \n",
            "karkavelrajaj/amazon-sales-dataset                                 Amazon Sales Dataset                              2MB  2023-01-17 06:21:15           8387        131  1.0              \n",
            "mdazizulkabirlovlu/all-countries-temperature-statistics-1970-2021  All Countries Temperature Statistics 1970-2021   26KB  2023-02-22 09:58:55            743         34  0.9411765        \n",
            "thedevastator/apple-s-historical-financials                        Apple's Historical Financials                     1KB  2023-02-13 11:33:03            879         26  1.0              \n",
            "themrityunjaypathak/tesla-stock-price-2005-2023                    Tesla Stock Price [2005-2023]                    53KB  2023-02-15 06:47:17            988         27  1.0              \n",
            "rajugc/imdb-movies-dataset-based-on-genre                          IMDb Movie Dataset: All Movies by Genre          43MB  2023-02-17 04:04:49           1164         33  1.0              \n",
            "synful/world-happiness-report                                      World Happiness Report                           37KB  2023-02-15 13:53:43           1373         30  0.7058824        \n",
            "ahsan81/hotel-reservations-classification-dataset                  Hotel Reservations Dataset                      480KB  2023-01-04 12:50:31          14762        431  1.0              \n",
            "thedevastator/u-s-software-developer-salaries                      U.S. Software Developer Salaries                  4KB  2023-02-11 03:18:23           1011         31  1.0              \n",
            "googleai/musiccaps                                                 MusicCaps                                       793KB  2023-01-25 09:25:48           3715        291  0.9411765        \n",
            "mattop/nutrition-physical-activity-and-obesity                     Nutrition, Physical Activity, and Obesity         3MB  2023-02-12 15:24:33           1579         41  1.0              \n",
            "jahaidulislam/world-happiness-report-2005-2021                     World Happiness Report 2005-2021                115KB  2023-02-22 10:46:42            604         31  1.0              \n",
            "jahaidulislam/fifa-world-cup-all-goals-1930-2022-dataset           FIFA World Cup All Goals 1930-2022 Dataset       73KB  2023-02-21 06:39:57            563         25  1.0              \n",
            "firozkabir1/crime-statistics-of-bangladesh-2010-2019               Crime Statistics Of Bangladesh 2010-2019          5KB  2023-02-21 20:48:06            385         25  1.0              \n",
            "thedevastator/domestic-food-prices-after-covid-19                  Domestic Food Prices After COVID-19               1MB  2023-02-13 01:45:15           1849         39  0.9411765        \n",
            "ss3-nlp-cmsk-chatbot.zip: Skipping, found more recently modified local copy (use --force to force download)\n"
          ]
        }
      ]
    },
    {
      "cell_type": "code",
      "source": [
        "!unzip /content/ss3-nlp-cmsk-chatbot.zip"
      ],
      "metadata": {
        "id": "Gt58uOijvdM4",
        "colab": {
          "base_uri": "https://localhost:8080/"
        },
        "outputId": "8932b566-a7bf-457d-9b2b-85018b6a3642"
      },
      "execution_count": null,
      "outputs": [
        {
          "output_type": "stream",
          "name": "stdout",
          "text": [
            "Archive:  /content/ss3-nlp-cmsk-chatbot.zip\n",
            "replace context/1345136.txt? [y]es, [n]o, [A]ll, [N]one, [r]ename: "
          ]
        }
      ]
    },
    {
      "cell_type": "markdown",
      "source": [
        "# Import Pythaynlp"
      ],
      "metadata": {
        "id": "S3fTIWrEKEUn"
      }
    },
    {
      "cell_type": "code",
      "source": [
        "!pip install -q pythainlp\n",
        "!pip install -q stop_words"
      ],
      "metadata": {
        "id": "DoSlOuNtKGbO"
      },
      "execution_count": null,
      "outputs": []
    },
    {
      "cell_type": "code",
      "source": [
        "import pythainlp\n",
        "from pythainlp import word_tokenize\n",
        "from pythainlp.corpus import thai_stopwords\n",
        "from pythainlp.corpus import thai_words\n",
        "from nltk.stem.porter import PorterStemmer\n",
        "from nltk.corpus import words\n",
        "from stop_words import get_stop_words"
      ],
      "metadata": {
        "id": "3zj0VzQvKK8H"
      },
      "execution_count": null,
      "outputs": []
    },
    {
      "cell_type": "code",
      "source": [
        "from nltk.corpus import wordnet"
      ],
      "metadata": {
        "id": "vuFrZU9sLUe4"
      },
      "execution_count": null,
      "outputs": []
    },
    {
      "cell_type": "code",
      "source": [
        "import nltk\n",
        "# dowload some package from wordnet\n",
        "nltk.download('wordnet')\n",
        "nltk.download('word')\n",
        "nltk.download('omw-1.4')\n",
        "th_stop = tuple(thai_stopwords())\n",
        "en_stop = tuple(get_stop_words('en'))\n",
        "p_stemmer = PorterStemmer()"
      ],
      "metadata": {
        "colab": {
          "base_uri": "https://localhost:8080/"
        },
        "id": "mp-HmjRAMi9b",
        "outputId": "15441260-0732-4964-fe62-8a90be5e9f1a"
      },
      "execution_count": null,
      "outputs": [
        {
          "output_type": "stream",
          "name": "stderr",
          "text": [
            "[nltk_data] Downloading package wordnet to /root/nltk_data...\n",
            "[nltk_data]   Package wordnet is already up-to-date!\n",
            "[nltk_data] Error loading word: Package 'word' not found in index\n",
            "[nltk_data] Downloading package omw-1.4 to /root/nltk_data...\n",
            "[nltk_data]   Package omw-1.4 is already up-to-date!\n"
          ]
        }
      ]
    },
    {
      "cell_type": "code",
      "source": [
        "def split_word(text, remove_stop_word=False):\n",
        "  tokens = word_tokenize(text, engine='newmm') # newmm is ditionary cutting\n",
        "  # Remove stop words ภาษาไทย และภาษาอังกฤษ\n",
        "  if remove_stop_word:\n",
        "    tokens = [i for i in tokens if not i in th_stop and not i in en_stop]\n",
        "  # หารากศัพท์ภาษาไทย และภาษาอังกฤษ\n",
        "  # English\n",
        "  tokens = [p_stemmer.stem(i) for i in tokens]\n",
        "  \n",
        "  # Thai\n",
        "  tokens_temp=[]\n",
        "  for i in tokens:\n",
        "      w_syn = wordnet.synsets(i)\n",
        "      if (len(w_syn)>0) and (len(w_syn[0].lemma_names('tha'))>0):\n",
        "          tokens_temp.append(w_syn[0].lemma_names('tha')[0])\n",
        "      else:\n",
        "          tokens_temp.append(i)\n",
        "  \n",
        "  tokens = tokens_temp\n",
        "\n",
        "  # ลบตัวเลข\n",
        "  tokens = [i for i in tokens if not i.isnumeric()]\n",
        "  # ลบช่องว่าง\n",
        "  tokens = [i for i in tokens if not ' ' in i]\n",
        "  return tokens"
      ],
      "metadata": {
        "id": "nDWXBIRFK67Q"
      },
      "execution_count": null,
      "outputs": []
    },
    {
      "cell_type": "code",
      "source": [
        "import re\n",
        "import string\n",
        "\n",
        "def clean_msg(msg):\n",
        "    # ลบ text ที่อยู่ในวงเล็บ <> ทั้งหมด\n",
        "    msg = re.sub(r'<.*?>','', msg)\n",
        "    # ลบ hashtag\n",
        "    msg = re.sub(r'#','',msg)\n",
        "    # ลบ เครื่องหมายคำพูด (punctuation)\n",
        "    for c in string.punctuation:\n",
        "        msg = re.sub(r'\\{}'.format(c),'',msg)\n",
        "    # ลบ separator เช่น \\n \\t\n",
        "    msg = ' '.join(msg.split())\n",
        "    return msg"
      ],
      "metadata": {
        "id": "LVGg4_LzLru9"
      },
      "execution_count": null,
      "outputs": []
    },
    {
      "cell_type": "code",
      "source": [
        "txt = \"ใครเป็นผู้ออกตราสารหนี้ภาคเอกชน ไร้ใบตราสาร\"\n",
        "cleaned = clean_msg(txt)\n",
        "splited = split_word(cleaned, remove_stop_word=False)\n",
        "print('clean text: ', cleaned)\n",
        "print('split_word: ', splited)"
      ],
      "metadata": {
        "colab": {
          "base_uri": "https://localhost:8080/"
        },
        "id": "joTfDqr9LiIJ",
        "outputId": "b49266e7-095a-4d7e-d810-8b77aa507b7d"
      },
      "execution_count": null,
      "outputs": [
        {
          "output_type": "stream",
          "name": "stdout",
          "text": [
            "clean text:  ใครเป็นผู้ออกตราสารหนี้ภาคเอกชน ไร้ใบตราสาร\n",
            "split_word:  ['ใคร', 'เป็น', 'ผู้', 'ออก', 'ตราสาร', 'หนี้', 'ภาคเอกชน', 'ไร้', 'ใบ', 'ตราสาร']\n"
          ]
        }
      ]
    },
    {
      "cell_type": "markdown",
      "source": [
        "# Explor Data"
      ],
      "metadata": {
        "id": "OBHSDu3uJI5F"
      }
    },
    {
      "cell_type": "code",
      "source": [
        "import pandas as pd"
      ],
      "metadata": {
        "id": "x8uoiMWhJLfk"
      },
      "execution_count": null,
      "outputs": []
    },
    {
      "cell_type": "code",
      "source": [
        "df = pd.read_csv('/content/Classify_testfile - Classify_testfile.csv')"
      ],
      "metadata": {
        "id": "fMmsPQwJI4iF"
      },
      "execution_count": null,
      "outputs": []
    },
    {
      "cell_type": "code",
      "source": [
        "df"
      ],
      "metadata": {
        "colab": {
          "base_uri": "https://localhost:8080/",
          "height": 423
        },
        "id": "ndURZo2NJT4G",
        "outputId": "25994929-9ceb-46f5-f33d-ae18b632f20d"
      },
      "execution_count": null,
      "outputs": [
        {
          "output_type": "execute_result",
          "data": {
            "text/plain": [
              "                                              question      mode\n",
              "0                             ทำยังไงให้ได้รางวัลโนเบล  chitchat\n",
              "1                       ขี้เกียจอาบน้ำจัง นอนเลยได้ไหม  chitchat\n",
              "2                     เรียนอย่างแบด แซดอย่างบ่อยทำไงดี  chitchat\n",
              "3                           ปลาตัวเล็กอร่อยจังเล้ยย!!!  chitchat\n",
              "4                              ช่่วงนี้มีหนังอะไรน่าดู  chitchat\n",
              "..                                                 ...       ...\n",
              "795  กลยุทธ์ที่เลือกกองทุนแบบ Passive เป็นส่วนใหญ่ ...        qa\n",
              "796  ปัจจัยที่ส่งผลต่อผลตอบแทนด้านความสามารถในการชำ...        qa\n",
              "797                         ธุรกรรมซื้อขายปกติ คืออะไร        qa\n",
              "798        ใครเป็นผู้ออกตราสารหนี้ภาคเอกชน ไร้ใบตราสาร        qa\n",
              "799         เวลาการซื้อขายในตลาด TBX คือช่วงเวลาใดบ้าง        qa\n",
              "\n",
              "[800 rows x 2 columns]"
            ],
            "text/html": [
              "\n",
              "  <div id=\"df-eda7a7e9-2a88-432c-9de2-badc83136b6b\">\n",
              "    <div class=\"colab-df-container\">\n",
              "      <div>\n",
              "<style scoped>\n",
              "    .dataframe tbody tr th:only-of-type {\n",
              "        vertical-align: middle;\n",
              "    }\n",
              "\n",
              "    .dataframe tbody tr th {\n",
              "        vertical-align: top;\n",
              "    }\n",
              "\n",
              "    .dataframe thead th {\n",
              "        text-align: right;\n",
              "    }\n",
              "</style>\n",
              "<table border=\"1\" class=\"dataframe\">\n",
              "  <thead>\n",
              "    <tr style=\"text-align: right;\">\n",
              "      <th></th>\n",
              "      <th>question</th>\n",
              "      <th>mode</th>\n",
              "    </tr>\n",
              "  </thead>\n",
              "  <tbody>\n",
              "    <tr>\n",
              "      <th>0</th>\n",
              "      <td>ทำยังไงให้ได้รางวัลโนเบล</td>\n",
              "      <td>chitchat</td>\n",
              "    </tr>\n",
              "    <tr>\n",
              "      <th>1</th>\n",
              "      <td>ขี้เกียจอาบน้ำจัง นอนเลยได้ไหม</td>\n",
              "      <td>chitchat</td>\n",
              "    </tr>\n",
              "    <tr>\n",
              "      <th>2</th>\n",
              "      <td>เรียนอย่างแบด แซดอย่างบ่อยทำไงดี</td>\n",
              "      <td>chitchat</td>\n",
              "    </tr>\n",
              "    <tr>\n",
              "      <th>3</th>\n",
              "      <td>ปลาตัวเล็กอร่อยจังเล้ยย!!!</td>\n",
              "      <td>chitchat</td>\n",
              "    </tr>\n",
              "    <tr>\n",
              "      <th>4</th>\n",
              "      <td>ช่่วงนี้มีหนังอะไรน่าดู</td>\n",
              "      <td>chitchat</td>\n",
              "    </tr>\n",
              "    <tr>\n",
              "      <th>...</th>\n",
              "      <td>...</td>\n",
              "      <td>...</td>\n",
              "    </tr>\n",
              "    <tr>\n",
              "      <th>795</th>\n",
              "      <td>กลยุทธ์ที่เลือกกองทุนแบบ Passive เป็นส่วนใหญ่ ...</td>\n",
              "      <td>qa</td>\n",
              "    </tr>\n",
              "    <tr>\n",
              "      <th>796</th>\n",
              "      <td>ปัจจัยที่ส่งผลต่อผลตอบแทนด้านความสามารถในการชำ...</td>\n",
              "      <td>qa</td>\n",
              "    </tr>\n",
              "    <tr>\n",
              "      <th>797</th>\n",
              "      <td>ธุรกรรมซื้อขายปกติ คืออะไร</td>\n",
              "      <td>qa</td>\n",
              "    </tr>\n",
              "    <tr>\n",
              "      <th>798</th>\n",
              "      <td>ใครเป็นผู้ออกตราสารหนี้ภาคเอกชน ไร้ใบตราสาร</td>\n",
              "      <td>qa</td>\n",
              "    </tr>\n",
              "    <tr>\n",
              "      <th>799</th>\n",
              "      <td>เวลาการซื้อขายในตลาด TBX คือช่วงเวลาใดบ้าง</td>\n",
              "      <td>qa</td>\n",
              "    </tr>\n",
              "  </tbody>\n",
              "</table>\n",
              "<p>800 rows × 2 columns</p>\n",
              "</div>\n",
              "      <button class=\"colab-df-convert\" onclick=\"convertToInteractive('df-eda7a7e9-2a88-432c-9de2-badc83136b6b')\"\n",
              "              title=\"Convert this dataframe to an interactive table.\"\n",
              "              style=\"display:none;\">\n",
              "        \n",
              "  <svg xmlns=\"http://www.w3.org/2000/svg\" height=\"24px\"viewBox=\"0 0 24 24\"\n",
              "       width=\"24px\">\n",
              "    <path d=\"M0 0h24v24H0V0z\" fill=\"none\"/>\n",
              "    <path d=\"M18.56 5.44l.94 2.06.94-2.06 2.06-.94-2.06-.94-.94-2.06-.94 2.06-2.06.94zm-11 1L8.5 8.5l.94-2.06 2.06-.94-2.06-.94L8.5 2.5l-.94 2.06-2.06.94zm10 10l.94 2.06.94-2.06 2.06-.94-2.06-.94-.94-2.06-.94 2.06-2.06.94z\"/><path d=\"M17.41 7.96l-1.37-1.37c-.4-.4-.92-.59-1.43-.59-.52 0-1.04.2-1.43.59L10.3 9.45l-7.72 7.72c-.78.78-.78 2.05 0 2.83L4 21.41c.39.39.9.59 1.41.59.51 0 1.02-.2 1.41-.59l7.78-7.78 2.81-2.81c.8-.78.8-2.07 0-2.86zM5.41 20L4 18.59l7.72-7.72 1.47 1.35L5.41 20z\"/>\n",
              "  </svg>\n",
              "      </button>\n",
              "      \n",
              "  <style>\n",
              "    .colab-df-container {\n",
              "      display:flex;\n",
              "      flex-wrap:wrap;\n",
              "      gap: 12px;\n",
              "    }\n",
              "\n",
              "    .colab-df-convert {\n",
              "      background-color: #E8F0FE;\n",
              "      border: none;\n",
              "      border-radius: 50%;\n",
              "      cursor: pointer;\n",
              "      display: none;\n",
              "      fill: #1967D2;\n",
              "      height: 32px;\n",
              "      padding: 0 0 0 0;\n",
              "      width: 32px;\n",
              "    }\n",
              "\n",
              "    .colab-df-convert:hover {\n",
              "      background-color: #E2EBFA;\n",
              "      box-shadow: 0px 1px 2px rgba(60, 64, 67, 0.3), 0px 1px 3px 1px rgba(60, 64, 67, 0.15);\n",
              "      fill: #174EA6;\n",
              "    }\n",
              "\n",
              "    [theme=dark] .colab-df-convert {\n",
              "      background-color: #3B4455;\n",
              "      fill: #D2E3FC;\n",
              "    }\n",
              "\n",
              "    [theme=dark] .colab-df-convert:hover {\n",
              "      background-color: #434B5C;\n",
              "      box-shadow: 0px 1px 3px 1px rgba(0, 0, 0, 0.15);\n",
              "      filter: drop-shadow(0px 1px 2px rgba(0, 0, 0, 0.3));\n",
              "      fill: #FFFFFF;\n",
              "    }\n",
              "  </style>\n",
              "\n",
              "      <script>\n",
              "        const buttonEl =\n",
              "          document.querySelector('#df-eda7a7e9-2a88-432c-9de2-badc83136b6b button.colab-df-convert');\n",
              "        buttonEl.style.display =\n",
              "          google.colab.kernel.accessAllowed ? 'block' : 'none';\n",
              "\n",
              "        async function convertToInteractive(key) {\n",
              "          const element = document.querySelector('#df-eda7a7e9-2a88-432c-9de2-badc83136b6b');\n",
              "          const dataTable =\n",
              "            await google.colab.kernel.invokeFunction('convertToInteractive',\n",
              "                                                     [key], {});\n",
              "          if (!dataTable) return;\n",
              "\n",
              "          const docLinkHtml = 'Like what you see? Visit the ' +\n",
              "            '<a target=\"_blank\" href=https://colab.research.google.com/notebooks/data_table.ipynb>data table notebook</a>'\n",
              "            + ' to learn more about interactive tables.';\n",
              "          element.innerHTML = '';\n",
              "          dataTable['output_type'] = 'display_data';\n",
              "          await google.colab.output.renderOutput(dataTable, element);\n",
              "          const docLink = document.createElement('div');\n",
              "          docLink.innerHTML = docLinkHtml;\n",
              "          element.appendChild(docLink);\n",
              "        }\n",
              "      </script>\n",
              "    </div>\n",
              "  </div>\n",
              "  "
            ]
          },
          "metadata": {},
          "execution_count": 57
        }
      ]
    },
    {
      "cell_type": "markdown",
      "source": [
        "# Encode Labels"
      ],
      "metadata": {
        "id": "05-QkjlgmlMP"
      }
    },
    {
      "cell_type": "code",
      "source": [
        "from sklearn.preprocessing import LabelEncoder\n",
        "labelencoder = LabelEncoder()\n",
        "df[\"labels\"] = labelencoder.fit_transform(df[\"mode\"])\n",
        "df[\"labels\"] = labelencoder.fit_transform(df[\"mode\"])"
      ],
      "metadata": {
        "id": "ujaVBNoEmmXt"
      },
      "execution_count": null,
      "outputs": []
    },
    {
      "cell_type": "markdown",
      "source": [
        "# train test split"
      ],
      "metadata": {
        "id": "AB32UX1ek9EC"
      }
    },
    {
      "cell_type": "code",
      "source": [
        "x = df['question']\n",
        "y = df['labels']"
      ],
      "metadata": {
        "id": "G4BaRtKolmD0"
      },
      "execution_count": null,
      "outputs": []
    },
    {
      "cell_type": "code",
      "source": [
        "from sklearn.model_selection import train_test_split\n",
        "X_train,X_test,y_train,y_test = train_test_split(x, y, test_size=0.5, shuffle=True)"
      ],
      "metadata": {
        "id": "N_dwSVBxhb0z"
      },
      "execution_count": null,
      "outputs": []
    },
    {
      "cell_type": "code",
      "source": [
        "print('len train:', len(X_train))\n",
        "print('len test: ', len(X_test))"
      ],
      "metadata": {
        "colab": {
          "base_uri": "https://localhost:8080/"
        },
        "id": "UVY0H7uvl3CC",
        "outputId": "59d9aecb-1331-42a6-c523-6a4951b869a8"
      },
      "execution_count": null,
      "outputs": [
        {
          "output_type": "stream",
          "name": "stdout",
          "text": [
            "len train: 400\n",
            "len test:  400\n"
          ]
        }
      ]
    },
    {
      "cell_type": "markdown",
      "source": [
        "# Feature Extraction"
      ],
      "metadata": {
        "id": "crRL6Rcmp0Fl"
      }
    },
    {
      "cell_type": "markdown",
      "source": [
        "##TF-IDF"
      ],
      "metadata": {
        "id": "3S2axrC7nEkP"
      }
    },
    {
      "cell_type": "code",
      "source": [
        "from sklearn.feature_extraction.text import TfidfVectorizer\n",
        "from pythainlp.tokenize import word_tokenize\n",
        "# สร้าง TFidf โดยจะมีการทำ tokenize และมีการแบ่งคำอยู่ในช่วง 2 token (คำติดกัน)\n",
        "ws_tfidf = TfidfVectorizer(tokenizer=word_tokenize, ngram_range=(1, 2), sublinear_tf=True)\n",
        "# เอา train, test มา extract\n",
        "ws_vec = ws_tfidf.fit_transform(X_train)\n",
        "ws_vec_test = ws_tfidf.transform(X_test)"
      ],
      "metadata": {
        "id": "vPl7xPx1nHrv"
      },
      "execution_count": null,
      "outputs": []
    },
    {
      "cell_type": "code",
      "source": [
        "print(ws_vec[:10])"
      ],
      "metadata": {
        "id": "3kAeD25gX-yV"
      },
      "execution_count": null,
      "outputs": []
    },
    {
      "cell_type": "code",
      "source": [
        "print(ws_vec.toarray())"
      ],
      "metadata": {
        "colab": {
          "base_uri": "https://localhost:8080/"
        },
        "id": "opja9VKcT81x",
        "outputId": "3f95c1ed-3539-4eba-c877-37f699ae7f01"
      },
      "execution_count": null,
      "outputs": [
        {
          "output_type": "stream",
          "name": "stdout",
          "text": [
            "[[0.18256607 0.         0.         ... 0.         0.         0.        ]\n",
            " [0.12384886 0.         0.         ... 0.         0.         0.        ]\n",
            " [0.12643719 0.         0.         ... 0.         0.         0.        ]\n",
            " ...\n",
            " [0.         0.         0.         ... 0.         0.         0.        ]\n",
            " [0.07238201 0.         0.         ... 0.         0.         0.        ]\n",
            " [0.06584218 0.         0.         ... 0.         0.         0.        ]]\n"
          ]
        }
      ]
    },
    {
      "cell_type": "markdown",
      "source": [
        "#Modeling"
      ],
      "metadata": {
        "id": "ZgiXft1CXQZn"
      }
    },
    {
      "cell_type": "markdown",
      "source": [
        "## Ensemble"
      ],
      "metadata": {
        "id": "Rq-UC0TynzdY"
      }
    },
    {
      "cell_type": "code",
      "source": [
        "from sklearn.ensemble import RandomForestClassifier\n",
        "from sklearn.svm import LinearSVC\n",
        "from sklearn.linear_model import LogisticRegression\n",
        "from sklearn.ensemble import StackingClassifier\n",
        "from sklearn.neighbors import KNeighborsClassifier\n",
        "# ใช้ ensemble ในการ classify\n",
        "estimators = [\n",
        "    ('rf', RandomForestClassifier(n_estimators=2, random_state=42)),\n",
        "    ('svc',LinearSVC(random_state=42)),\n",
        "    ('knn',KNeighborsClassifier(n_neighbors=2)),\n",
        "    ('lgr',LogisticRegression(random_state=42))\n",
        "]\n",
        "\n",
        "clf = StackingClassifier(\n",
        "    estimators=estimators, \n",
        "    final_estimator=LogisticRegression(random_state=42),\n",
        "    n_jobs=-1,\n",
        "    verbose=10,\n",
        "    cv=5\n",
        ")\n",
        "\n",
        "clf.fit(ws_vec, y_train)"
      ],
      "metadata": {
        "colab": {
          "base_uri": "https://localhost:8080/"
        },
        "id": "Am2Z8gYjnPNo",
        "outputId": "35613ce6-ae28-46ef-c406-43295da0a7c3"
      },
      "execution_count": null,
      "outputs": [
        {
          "output_type": "execute_result",
          "data": {
            "text/plain": [
              "StackingClassifier(cv=5,\n",
              "                   estimators=[('rf',\n",
              "                                RandomForestClassifier(n_estimators=2,\n",
              "                                                       random_state=42)),\n",
              "                               ('svc', LinearSVC(random_state=42)),\n",
              "                               ('knn', KNeighborsClassifier(n_neighbors=2)),\n",
              "                               ('lgr', LogisticRegression(random_state=42))],\n",
              "                   final_estimator=LogisticRegression(random_state=42),\n",
              "                   n_jobs=-1, verbose=10)"
            ]
          },
          "metadata": {},
          "execution_count": 106
        }
      ]
    },
    {
      "cell_type": "code",
      "source": [
        "clf.estimators_"
      ],
      "metadata": {
        "colab": {
          "base_uri": "https://localhost:8080/"
        },
        "id": "WDjaRe30VQhQ",
        "outputId": "efc9b51d-9c34-4b82-8899-b6d98c78cb8b"
      },
      "execution_count": null,
      "outputs": [
        {
          "output_type": "execute_result",
          "data": {
            "text/plain": [
              "[KNeighborsClassifier(n_neighbors=2)]"
            ]
          },
          "metadata": {},
          "execution_count": 64
        }
      ]
    },
    {
      "cell_type": "code",
      "source": [
        "pred = clf.predict(ws_vec_test)"
      ],
      "metadata": {
        "id": "D4VO_RrJnWxn"
      },
      "execution_count": null,
      "outputs": []
    },
    {
      "cell_type": "code",
      "source": [
        "pred"
      ],
      "metadata": {
        "colab": {
          "base_uri": "https://localhost:8080/"
        },
        "id": "ikUGDGounXlA",
        "outputId": "00ab0315-b69f-490f-baba-24a30b1f8a9a"
      },
      "execution_count": null,
      "outputs": [
        {
          "output_type": "execute_result",
          "data": {
            "text/plain": [
              "array([0, 0, 1, 1, 0, 1, 1, 0, 0, 0, 0, 0, 1, 1, 0, 0, 0, 1, 1, 1, 0, 1,\n",
              "       1, 1, 1, 0, 1, 0, 0, 1, 1, 0, 0, 1, 1, 1, 0, 0, 1, 1, 1, 1, 0, 1,\n",
              "       1, 0, 0, 1, 1, 0, 0, 0, 1, 1, 1, 0, 0, 1, 0, 0, 1, 0, 0, 1, 1, 1,\n",
              "       1, 1, 0, 0, 0, 1, 1, 1, 0, 0, 0, 1, 1, 1, 1, 0, 0, 0, 1, 1, 1, 0,\n",
              "       0, 1, 1, 1, 0, 0, 0, 1, 1, 1, 1, 0, 1, 1, 1, 1, 0, 1, 0, 0, 0, 1,\n",
              "       0, 1, 1, 0, 1, 0, 1, 0, 0, 0, 0, 0, 0, 1, 0, 0, 1, 0, 0, 0, 1, 0,\n",
              "       1, 1, 1, 1, 1, 1, 1, 1, 1, 0, 0, 1, 0, 1, 0, 0, 1, 0, 0, 0, 0, 1,\n",
              "       1, 0, 0, 1, 0, 0, 0, 1, 0, 0, 1, 1, 0, 0, 1, 0, 1, 1, 0, 0, 1, 1,\n",
              "       1, 1, 0, 1, 0, 0, 0, 1, 1, 0, 1, 0, 0, 0, 1, 1, 1, 0, 0, 0, 0, 0,\n",
              "       1, 0, 0, 1, 1, 0, 1, 0, 0, 1, 0, 1, 1, 0, 1, 0, 0, 0, 1, 0, 1, 0,\n",
              "       0, 0, 1, 1, 0, 0, 0, 0, 0, 1, 0, 1, 1, 1, 0, 1, 0, 1, 0, 1, 1, 1,\n",
              "       1, 0, 1, 0, 0, 0, 0, 1, 0, 0, 0, 1, 0, 0, 1, 1, 0, 1, 1, 1, 1, 0,\n",
              "       0, 1, 1, 0, 1, 1, 0, 0, 0, 1, 0, 1, 0, 0, 0, 1, 0, 1, 1, 0, 1, 1,\n",
              "       0, 0, 1, 1, 1, 1, 0, 0, 0, 1, 1, 0, 1, 0, 0, 1, 1, 1, 0, 1, 0, 0,\n",
              "       1, 0, 1, 1, 1, 0, 0, 0, 1, 1, 0, 0, 1, 0, 0, 0, 0, 1, 0, 0, 1, 1,\n",
              "       0, 1, 1, 1, 1, 0, 0, 0, 0, 1, 1, 0, 0, 1, 0, 0, 0, 0, 1, 0, 0, 0,\n",
              "       0, 0, 1, 1, 1, 0, 1, 1, 0, 1, 1, 1, 0, 0, 0, 0, 1, 0, 1, 0, 0, 1,\n",
              "       1, 0, 0, 0, 1, 0, 0, 0, 0, 0, 1, 0, 1, 0, 0, 1, 0, 0, 0, 1, 0, 1,\n",
              "       1, 0, 1, 0])"
            ]
          },
          "metadata": {},
          "execution_count": 66
        }
      ]
    },
    {
      "cell_type": "markdown",
      "source": [
        "## Fast text"
      ],
      "metadata": {
        "id": "wUi_9VK1XMiA"
      }
    },
    {
      "cell_type": "code",
      "source": [
        "!pip install fasttext"
      ],
      "metadata": {
        "id": "WcWnhc8dXOsg"
      },
      "execution_count": null,
      "outputs": []
    },
    {
      "cell_type": "code",
      "source": [
        "import fasttext"
      ],
      "metadata": {
        "id": "_UCK72cx1mX6"
      },
      "execution_count": null,
      "outputs": []
    },
    {
      "cell_type": "code",
      "source": [
        "df.head()"
      ],
      "metadata": {
        "colab": {
          "base_uri": "https://localhost:8080/",
          "height": 206
        },
        "id": "FCZVsiF94rnR",
        "outputId": "00e2078f-2235-441b-84ee-f2c34818a5db"
      },
      "execution_count": null,
      "outputs": [
        {
          "output_type": "execute_result",
          "data": {
            "text/plain": [
              "                           question      mode  labels\n",
              "0          ทำยังไงให้ได้รางวัลโนเบล  chitchat       0\n",
              "1    ขี้เกียจอาบน้ำจัง นอนเลยได้ไหม  chitchat       0\n",
              "2  เรียนอย่างแบด แซดอย่างบ่อยทำไงดี  chitchat       0\n",
              "3        ปลาตัวเล็กอร่อยจังเล้ยย!!!  chitchat       0\n",
              "4           ช่่วงนี้มีหนังอะไรน่าดู  chitchat       0"
            ],
            "text/html": [
              "\n",
              "  <div id=\"df-0b795114-10de-4681-9652-21b39d1d1610\">\n",
              "    <div class=\"colab-df-container\">\n",
              "      <div>\n",
              "<style scoped>\n",
              "    .dataframe tbody tr th:only-of-type {\n",
              "        vertical-align: middle;\n",
              "    }\n",
              "\n",
              "    .dataframe tbody tr th {\n",
              "        vertical-align: top;\n",
              "    }\n",
              "\n",
              "    .dataframe thead th {\n",
              "        text-align: right;\n",
              "    }\n",
              "</style>\n",
              "<table border=\"1\" class=\"dataframe\">\n",
              "  <thead>\n",
              "    <tr style=\"text-align: right;\">\n",
              "      <th></th>\n",
              "      <th>question</th>\n",
              "      <th>mode</th>\n",
              "      <th>labels</th>\n",
              "    </tr>\n",
              "  </thead>\n",
              "  <tbody>\n",
              "    <tr>\n",
              "      <th>0</th>\n",
              "      <td>ทำยังไงให้ได้รางวัลโนเบล</td>\n",
              "      <td>chitchat</td>\n",
              "      <td>0</td>\n",
              "    </tr>\n",
              "    <tr>\n",
              "      <th>1</th>\n",
              "      <td>ขี้เกียจอาบน้ำจัง นอนเลยได้ไหม</td>\n",
              "      <td>chitchat</td>\n",
              "      <td>0</td>\n",
              "    </tr>\n",
              "    <tr>\n",
              "      <th>2</th>\n",
              "      <td>เรียนอย่างแบด แซดอย่างบ่อยทำไงดี</td>\n",
              "      <td>chitchat</td>\n",
              "      <td>0</td>\n",
              "    </tr>\n",
              "    <tr>\n",
              "      <th>3</th>\n",
              "      <td>ปลาตัวเล็กอร่อยจังเล้ยย!!!</td>\n",
              "      <td>chitchat</td>\n",
              "      <td>0</td>\n",
              "    </tr>\n",
              "    <tr>\n",
              "      <th>4</th>\n",
              "      <td>ช่่วงนี้มีหนังอะไรน่าดู</td>\n",
              "      <td>chitchat</td>\n",
              "      <td>0</td>\n",
              "    </tr>\n",
              "  </tbody>\n",
              "</table>\n",
              "</div>\n",
              "      <button class=\"colab-df-convert\" onclick=\"convertToInteractive('df-0b795114-10de-4681-9652-21b39d1d1610')\"\n",
              "              title=\"Convert this dataframe to an interactive table.\"\n",
              "              style=\"display:none;\">\n",
              "        \n",
              "  <svg xmlns=\"http://www.w3.org/2000/svg\" height=\"24px\"viewBox=\"0 0 24 24\"\n",
              "       width=\"24px\">\n",
              "    <path d=\"M0 0h24v24H0V0z\" fill=\"none\"/>\n",
              "    <path d=\"M18.56 5.44l.94 2.06.94-2.06 2.06-.94-2.06-.94-.94-2.06-.94 2.06-2.06.94zm-11 1L8.5 8.5l.94-2.06 2.06-.94-2.06-.94L8.5 2.5l-.94 2.06-2.06.94zm10 10l.94 2.06.94-2.06 2.06-.94-2.06-.94-.94-2.06-.94 2.06-2.06.94z\"/><path d=\"M17.41 7.96l-1.37-1.37c-.4-.4-.92-.59-1.43-.59-.52 0-1.04.2-1.43.59L10.3 9.45l-7.72 7.72c-.78.78-.78 2.05 0 2.83L4 21.41c.39.39.9.59 1.41.59.51 0 1.02-.2 1.41-.59l7.78-7.78 2.81-2.81c.8-.78.8-2.07 0-2.86zM5.41 20L4 18.59l7.72-7.72 1.47 1.35L5.41 20z\"/>\n",
              "  </svg>\n",
              "      </button>\n",
              "      \n",
              "  <style>\n",
              "    .colab-df-container {\n",
              "      display:flex;\n",
              "      flex-wrap:wrap;\n",
              "      gap: 12px;\n",
              "    }\n",
              "\n",
              "    .colab-df-convert {\n",
              "      background-color: #E8F0FE;\n",
              "      border: none;\n",
              "      border-radius: 50%;\n",
              "      cursor: pointer;\n",
              "      display: none;\n",
              "      fill: #1967D2;\n",
              "      height: 32px;\n",
              "      padding: 0 0 0 0;\n",
              "      width: 32px;\n",
              "    }\n",
              "\n",
              "    .colab-df-convert:hover {\n",
              "      background-color: #E2EBFA;\n",
              "      box-shadow: 0px 1px 2px rgba(60, 64, 67, 0.3), 0px 1px 3px 1px rgba(60, 64, 67, 0.15);\n",
              "      fill: #174EA6;\n",
              "    }\n",
              "\n",
              "    [theme=dark] .colab-df-convert {\n",
              "      background-color: #3B4455;\n",
              "      fill: #D2E3FC;\n",
              "    }\n",
              "\n",
              "    [theme=dark] .colab-df-convert:hover {\n",
              "      background-color: #434B5C;\n",
              "      box-shadow: 0px 1px 3px 1px rgba(0, 0, 0, 0.15);\n",
              "      filter: drop-shadow(0px 1px 2px rgba(0, 0, 0, 0.3));\n",
              "      fill: #FFFFFF;\n",
              "    }\n",
              "  </style>\n",
              "\n",
              "      <script>\n",
              "        const buttonEl =\n",
              "          document.querySelector('#df-0b795114-10de-4681-9652-21b39d1d1610 button.colab-df-convert');\n",
              "        buttonEl.style.display =\n",
              "          google.colab.kernel.accessAllowed ? 'block' : 'none';\n",
              "\n",
              "        async function convertToInteractive(key) {\n",
              "          const element = document.querySelector('#df-0b795114-10de-4681-9652-21b39d1d1610');\n",
              "          const dataTable =\n",
              "            await google.colab.kernel.invokeFunction('convertToInteractive',\n",
              "                                                     [key], {});\n",
              "          if (!dataTable) return;\n",
              "\n",
              "          const docLinkHtml = 'Like what you see? Visit the ' +\n",
              "            '<a target=\"_blank\" href=https://colab.research.google.com/notebooks/data_table.ipynb>data table notebook</a>'\n",
              "            + ' to learn more about interactive tables.';\n",
              "          element.innerHTML = '';\n",
              "          dataTable['output_type'] = 'display_data';\n",
              "          await google.colab.output.renderOutput(dataTable, element);\n",
              "          const docLink = document.createElement('div');\n",
              "          docLink.innerHTML = docLinkHtml;\n",
              "          element.appendChild(docLink);\n",
              "        }\n",
              "      </script>\n",
              "    </div>\n",
              "  </div>\n",
              "  "
            ]
          },
          "metadata": {},
          "execution_count": 69
        }
      ]
    },
    {
      "cell_type": "markdown",
      "source": [
        "### preprocessing data for fasttext"
      ],
      "metadata": {
        "id": "5zMlOWrx4dCo"
      }
    },
    {
      "cell_type": "code",
      "source": [
        "train_ = df.copy()"
      ],
      "metadata": {
        "id": "9L_Lt_zKI5TH"
      },
      "execution_count": null,
      "outputs": []
    },
    {
      "cell_type": "code",
      "source": [
        "from sklearn.utils import shuffle\n",
        "train_ = shuffle(train_)"
      ],
      "metadata": {
        "id": "SFRDHNYqI8L1"
      },
      "execution_count": null,
      "outputs": []
    },
    {
      "cell_type": "code",
      "source": [
        "train_"
      ],
      "metadata": {
        "colab": {
          "base_uri": "https://localhost:8080/",
          "height": 423
        },
        "id": "qP9vtOlbJFoV",
        "outputId": "11089cae-bc4d-4a76-fc11-5ebe4df73c07"
      },
      "execution_count": null,
      "outputs": [
        {
          "output_type": "execute_result",
          "data": {
            "text/plain": [
              "                                              question      mode  labels\n",
              "499  อัตราผลตอบแทนถึงวันไถ่ถอนก่อนกำหนดจากผู้ออก คื...        qa       1\n",
              "63                             แอบหลับอาจารย์จะรู้มั้ย  chitchat       0\n",
              "575         การประเมินมูลค่าตราสารหนี้ทั่วไป ทำอย่างไร        qa       1\n",
              "617  กรณีที่ต่างประเทศเข้ามาลงทุนในตราสารหนี้ไทยเพิ...        qa       1\n",
              "554           หุ้นกู้ต่างประเทศ (Foreign Bond) คืออะไร        qa       1\n",
              "..                                                 ...       ...     ...\n",
              "725  ข้อความที่ต้องเน้นให้เด่นชัดในสัญญาที่บริษัทหล...        qa       1\n",
              "607  การกำกับดูแลการซื้อขายที่ดีส่งผลต่อบริษัทสมาชิ...        qa       1\n",
              "1                       ขี้เกียจอาบน้ำจัง นอนเลยได้ไหม  chitchat       0\n",
              "8                                   ง่วงนอนจังง ทำไงดี  chitchat       0\n",
              "388                                    เพื่อเธอคนเดียว  chitchat       0\n",
              "\n",
              "[800 rows x 3 columns]"
            ],
            "text/html": [
              "\n",
              "  <div id=\"df-bcc03ce2-7778-4059-a647-d0b4abb55582\">\n",
              "    <div class=\"colab-df-container\">\n",
              "      <div>\n",
              "<style scoped>\n",
              "    .dataframe tbody tr th:only-of-type {\n",
              "        vertical-align: middle;\n",
              "    }\n",
              "\n",
              "    .dataframe tbody tr th {\n",
              "        vertical-align: top;\n",
              "    }\n",
              "\n",
              "    .dataframe thead th {\n",
              "        text-align: right;\n",
              "    }\n",
              "</style>\n",
              "<table border=\"1\" class=\"dataframe\">\n",
              "  <thead>\n",
              "    <tr style=\"text-align: right;\">\n",
              "      <th></th>\n",
              "      <th>question</th>\n",
              "      <th>mode</th>\n",
              "      <th>labels</th>\n",
              "    </tr>\n",
              "  </thead>\n",
              "  <tbody>\n",
              "    <tr>\n",
              "      <th>499</th>\n",
              "      <td>อัตราผลตอบแทนถึงวันไถ่ถอนก่อนกำหนดจากผู้ออก คื...</td>\n",
              "      <td>qa</td>\n",
              "      <td>1</td>\n",
              "    </tr>\n",
              "    <tr>\n",
              "      <th>63</th>\n",
              "      <td>แอบหลับอาจารย์จะรู้มั้ย</td>\n",
              "      <td>chitchat</td>\n",
              "      <td>0</td>\n",
              "    </tr>\n",
              "    <tr>\n",
              "      <th>575</th>\n",
              "      <td>การประเมินมูลค่าตราสารหนี้ทั่วไป ทำอย่างไร</td>\n",
              "      <td>qa</td>\n",
              "      <td>1</td>\n",
              "    </tr>\n",
              "    <tr>\n",
              "      <th>617</th>\n",
              "      <td>กรณีที่ต่างประเทศเข้ามาลงทุนในตราสารหนี้ไทยเพิ...</td>\n",
              "      <td>qa</td>\n",
              "      <td>1</td>\n",
              "    </tr>\n",
              "    <tr>\n",
              "      <th>554</th>\n",
              "      <td>หุ้นกู้ต่างประเทศ (Foreign Bond) คืออะไร</td>\n",
              "      <td>qa</td>\n",
              "      <td>1</td>\n",
              "    </tr>\n",
              "    <tr>\n",
              "      <th>...</th>\n",
              "      <td>...</td>\n",
              "      <td>...</td>\n",
              "      <td>...</td>\n",
              "    </tr>\n",
              "    <tr>\n",
              "      <th>725</th>\n",
              "      <td>ข้อความที่ต้องเน้นให้เด่นชัดในสัญญาที่บริษัทหล...</td>\n",
              "      <td>qa</td>\n",
              "      <td>1</td>\n",
              "    </tr>\n",
              "    <tr>\n",
              "      <th>607</th>\n",
              "      <td>การกำกับดูแลการซื้อขายที่ดีส่งผลต่อบริษัทสมาชิ...</td>\n",
              "      <td>qa</td>\n",
              "      <td>1</td>\n",
              "    </tr>\n",
              "    <tr>\n",
              "      <th>1</th>\n",
              "      <td>ขี้เกียจอาบน้ำจัง นอนเลยได้ไหม</td>\n",
              "      <td>chitchat</td>\n",
              "      <td>0</td>\n",
              "    </tr>\n",
              "    <tr>\n",
              "      <th>8</th>\n",
              "      <td>ง่วงนอนจังง ทำไงดี</td>\n",
              "      <td>chitchat</td>\n",
              "      <td>0</td>\n",
              "    </tr>\n",
              "    <tr>\n",
              "      <th>388</th>\n",
              "      <td>เพื่อเธอคนเดียว</td>\n",
              "      <td>chitchat</td>\n",
              "      <td>0</td>\n",
              "    </tr>\n",
              "  </tbody>\n",
              "</table>\n",
              "<p>800 rows × 3 columns</p>\n",
              "</div>\n",
              "      <button class=\"colab-df-convert\" onclick=\"convertToInteractive('df-bcc03ce2-7778-4059-a647-d0b4abb55582')\"\n",
              "              title=\"Convert this dataframe to an interactive table.\"\n",
              "              style=\"display:none;\">\n",
              "        \n",
              "  <svg xmlns=\"http://www.w3.org/2000/svg\" height=\"24px\"viewBox=\"0 0 24 24\"\n",
              "       width=\"24px\">\n",
              "    <path d=\"M0 0h24v24H0V0z\" fill=\"none\"/>\n",
              "    <path d=\"M18.56 5.44l.94 2.06.94-2.06 2.06-.94-2.06-.94-.94-2.06-.94 2.06-2.06.94zm-11 1L8.5 8.5l.94-2.06 2.06-.94-2.06-.94L8.5 2.5l-.94 2.06-2.06.94zm10 10l.94 2.06.94-2.06 2.06-.94-2.06-.94-.94-2.06-.94 2.06-2.06.94z\"/><path d=\"M17.41 7.96l-1.37-1.37c-.4-.4-.92-.59-1.43-.59-.52 0-1.04.2-1.43.59L10.3 9.45l-7.72 7.72c-.78.78-.78 2.05 0 2.83L4 21.41c.39.39.9.59 1.41.59.51 0 1.02-.2 1.41-.59l7.78-7.78 2.81-2.81c.8-.78.8-2.07 0-2.86zM5.41 20L4 18.59l7.72-7.72 1.47 1.35L5.41 20z\"/>\n",
              "  </svg>\n",
              "      </button>\n",
              "      \n",
              "  <style>\n",
              "    .colab-df-container {\n",
              "      display:flex;\n",
              "      flex-wrap:wrap;\n",
              "      gap: 12px;\n",
              "    }\n",
              "\n",
              "    .colab-df-convert {\n",
              "      background-color: #E8F0FE;\n",
              "      border: none;\n",
              "      border-radius: 50%;\n",
              "      cursor: pointer;\n",
              "      display: none;\n",
              "      fill: #1967D2;\n",
              "      height: 32px;\n",
              "      padding: 0 0 0 0;\n",
              "      width: 32px;\n",
              "    }\n",
              "\n",
              "    .colab-df-convert:hover {\n",
              "      background-color: #E2EBFA;\n",
              "      box-shadow: 0px 1px 2px rgba(60, 64, 67, 0.3), 0px 1px 3px 1px rgba(60, 64, 67, 0.15);\n",
              "      fill: #174EA6;\n",
              "    }\n",
              "\n",
              "    [theme=dark] .colab-df-convert {\n",
              "      background-color: #3B4455;\n",
              "      fill: #D2E3FC;\n",
              "    }\n",
              "\n",
              "    [theme=dark] .colab-df-convert:hover {\n",
              "      background-color: #434B5C;\n",
              "      box-shadow: 0px 1px 3px 1px rgba(0, 0, 0, 0.15);\n",
              "      filter: drop-shadow(0px 1px 2px rgba(0, 0, 0, 0.3));\n",
              "      fill: #FFFFFF;\n",
              "    }\n",
              "  </style>\n",
              "\n",
              "      <script>\n",
              "        const buttonEl =\n",
              "          document.querySelector('#df-bcc03ce2-7778-4059-a647-d0b4abb55582 button.colab-df-convert');\n",
              "        buttonEl.style.display =\n",
              "          google.colab.kernel.accessAllowed ? 'block' : 'none';\n",
              "\n",
              "        async function convertToInteractive(key) {\n",
              "          const element = document.querySelector('#df-bcc03ce2-7778-4059-a647-d0b4abb55582');\n",
              "          const dataTable =\n",
              "            await google.colab.kernel.invokeFunction('convertToInteractive',\n",
              "                                                     [key], {});\n",
              "          if (!dataTable) return;\n",
              "\n",
              "          const docLinkHtml = 'Like what you see? Visit the ' +\n",
              "            '<a target=\"_blank\" href=https://colab.research.google.com/notebooks/data_table.ipynb>data table notebook</a>'\n",
              "            + ' to learn more about interactive tables.';\n",
              "          element.innerHTML = '';\n",
              "          dataTable['output_type'] = 'display_data';\n",
              "          await google.colab.output.renderOutput(dataTable, element);\n",
              "          const docLink = document.createElement('div');\n",
              "          docLink.innerHTML = docLinkHtml;\n",
              "          element.appendChild(docLink);\n",
              "        }\n",
              "      </script>\n",
              "    </div>\n",
              "  </div>\n",
              "  "
            ]
          },
          "metadata": {},
          "execution_count": 72
        }
      ]
    },
    {
      "cell_type": "code",
      "source": [
        "text = train_['question']\n",
        "label = train_['mode']"
      ],
      "metadata": {
        "id": "GGrUPGil5BZT"
      },
      "execution_count": null,
      "outputs": []
    },
    {
      "cell_type": "code",
      "source": [
        "with open('dataset.txt', 'w') as f:\n",
        "  for i in range(len(text)):\n",
        "    f.write('__label__{} {}'.format(label[i], text[i]))\n",
        "f.close()\n",
        "  "
      ],
      "metadata": {
        "id": "whBhakQ74lw0"
      },
      "execution_count": null,
      "outputs": []
    },
    {
      "cell_type": "code",
      "source": [
        "model = fasttext.train_supervised(input=\"dataset.txt\", epoch=1)"
      ],
      "metadata": {
        "id": "6zz_CrIL2tnX"
      },
      "execution_count": null,
      "outputs": []
    },
    {
      "cell_type": "code",
      "source": [
        "model.predict(\"ฝนตกปะ\", threshold=0.2)"
      ],
      "metadata": {
        "colab": {
          "base_uri": "https://localhost:8080/"
        },
        "id": "QIorrxfl2x9g",
        "outputId": "94510eba-717c-4804-dd76-25da649cc984"
      },
      "execution_count": null,
      "outputs": [
        {
          "output_type": "execute_result",
          "data": {
            "text/plain": [
              "(('__label__qa',), array([0.88988817]))"
            ]
          },
          "metadata": {},
          "execution_count": 150
        }
      ]
    },
    {
      "cell_type": "markdown",
      "source": [
        "# Exploration Results"
      ],
      "metadata": {
        "id": "CNJmYgrdn8mJ"
      }
    },
    {
      "cell_type": "markdown",
      "source": [
        "## Ensemble"
      ],
      "metadata": {
        "id": "iixnBPpsIWxr"
      }
    },
    {
      "cell_type": "code",
      "source": [
        "from sklearn.metrics import classification_report, confusion_matrix\n",
        "print(classification_report(y_test, pred, target_names=df['mode'].unique()))"
      ],
      "metadata": {
        "colab": {
          "base_uri": "https://localhost:8080/"
        },
        "id": "wdFQYq6KnX2G",
        "outputId": "ab5062cb-7239-4133-9664-38d15bb93838"
      },
      "execution_count": null,
      "outputs": [
        {
          "output_type": "stream",
          "name": "stdout",
          "text": [
            "              precision    recall  f1-score   support\n",
            "\n",
            "    chitchat       0.99      0.99      0.99       210\n",
            "          qa       0.98      0.98      0.98       190\n",
            "\n",
            "    accuracy                           0.98       400\n",
            "   macro avg       0.98      0.98      0.98       400\n",
            "weighted avg       0.98      0.98      0.98       400\n",
            "\n"
          ]
        }
      ]
    },
    {
      "cell_type": "code",
      "source": [
        "import seaborn as sns\n",
        "import matplotlib.pyplot as plt\n",
        "from sklearn import metrics\n",
        "confusion_matrix = metrics.confusion_matrix(y_test, pred)\n",
        "cm_display = metrics.ConfusionMatrixDisplay(confusion_matrix = confusion_matrix, display_labels = df['mode'].unique())\n",
        "cm_display.plot()\n",
        "plt.show()"
      ],
      "metadata": {
        "colab": {
          "base_uri": "https://localhost:8080/",
          "height": 279
        },
        "id": "UiSpSMULoBog",
        "outputId": "f56d9d9a-6c3b-4163-f9c6-6705750ab3a2"
      },
      "execution_count": null,
      "outputs": [
        {
          "output_type": "display_data",
          "data": {
            "text/plain": [
              "<Figure size 432x288 with 2 Axes>"
            ],
            "image/png": "[encoded data removed]"
          },
          "metadata": {
            "needs_background": "light"
          }
        }
      ]
    },
    {
      "cell_type": "markdown",
      "source": [
        "## Fast text"
      ],
      "metadata": {
        "id": "IXSxDj_HIZgB"
      }
    },
    {
      "cell_type": "code",
      "source": [
        "pred_fast = model.predict(ws_vec_test)"
      ],
      "metadata": {
        "id": "nCUSPZCaInkb"
      },
      "execution_count": null,
      "outputs": []
    },
    {
      "cell_type": "code",
      "source": [
        "from sklearn.metrics import classification_report, confusion_matrix\n",
        "print(classification_report(y_test, pred, target_names=df['mode'].unique()))"
      ],
      "metadata": {
        "id": "bJhzbbqlIbvE"
      },
      "execution_count": null,
      "outputs": []
    },
    {
      "cell_type": "code",
      "source": [
        "import seaborn as sns\n",
        "import matplotlib.pyplot as plt\n",
        "from sklearn import metrics\n",
        "\n",
        "\n",
        "confusion_matrix = metrics.confusion_matrix(y_test, pred)\n",
        "cm_display = metrics.ConfusionMatrixDisplay(confusion_matrix = confusion_matrix, display_labels = df['mode'].unique())\n",
        "cm_display.plot()\n",
        "plt.show()"
      ],
      "metadata": {
        "id": "zpP4RPZmIdTF"
      },
      "execution_count": null,
      "outputs": []
    },
    {
      "cell_type": "markdown",
      "source": [
        "# Sample Text for model prediction"
      ],
      "metadata": {
        "id": "lxas0ocMoEH4"
      }
    },
    {
      "cell_type": "code",
      "source": [
        "input_ = [input(\"Enter Some String Here: \")]\n",
        "vec_test = ws_tfidf.transform(input_)\n",
        "pred = clf.predict(vec_test)\n",
        "print('results = ', df['mode'].unique()[pred])"
      ],
      "metadata": {
        "id": "Mpwnlq2roHob"
      },
      "execution_count": null,
      "outputs": []
    },
    {
      "cell_type": "markdown",
      "source": [
        "## Prediction small test"
      ],
      "metadata": {
        "id": "PZdPrOkGTq2g"
      }
    },
    {
      "cell_type": "code",
      "source": [
        "test_df = pd.read_csv('/content/small_test.csv')"
      ],
      "metadata": {
        "id": "AvOI9SHXTtEp"
      },
      "execution_count": null,
      "outputs": []
    },
    {
      "cell_type": "code",
      "source": [
        "chit_test = pd.read_fwf('/content/chit.txt', header=None)\n",
        "# data = pd.read_csv('/content/chit.txt', sep=\" \", header=None)"
      ],
      "metadata": {
        "id": "8npDBnLXPZ1N"
      },
      "execution_count": null,
      "outputs": []
    },
    {
      "cell_type": "markdown",
      "source": [
        "## staking model"
      ],
      "metadata": {
        "id": "UK9ynny3IHP4"
      }
    },
    {
      "cell_type": "markdown",
      "source": [
        "## test qa"
      ],
      "metadata": {
        "id": "Ic8H6_7CQWFS"
      }
    },
    {
      "cell_type": "code",
      "source": [
        "qa_test = test_df['question']"
      ],
      "metadata": {
        "id": "CSud3PR_TzNZ"
      },
      "execution_count": null,
      "outputs": []
    },
    {
      "cell_type": "code",
      "source": [
        "vec_test = ws_tfidf.transform(qa_test)"
      ],
      "metadata": {
        "id": "jEFjvKm6UDmi"
      },
      "execution_count": null,
      "outputs": []
    },
    {
      "cell_type": "code",
      "source": [
        "pred_qa = clf.predict(vec_test)"
      ],
      "metadata": {
        "id": "vfOD2zfDUCJ7"
      },
      "execution_count": null,
      "outputs": []
    },
    {
      "cell_type": "code",
      "source": [
        "df['mode'].unique()[pred_qa]"
      ],
      "metadata": {
        "colab": {
          "base_uri": "https://localhost:8080/"
        },
        "id": "CBifp2rjUJKS",
        "outputId": "fda53464-bf4c-480f-ead6-1f1ace736fa3"
      },
      "execution_count": null,
      "outputs": [
        {
          "output_type": "execute_result",
          "data": {
            "text/plain": [
              "array(['qa', 'qa', 'qa', 'qa', 'qa', 'qa', 'qa', 'qa', 'qa', 'qa', 'qa',\n",
              "       'qa', 'qa', 'qa', 'qa', 'qa', 'qa', 'qa', 'qa', 'qa', 'qa', 'qa',\n",
              "       'qa', 'qa', 'qa', 'qa', 'qa', 'qa', 'qa', 'qa', 'qa', 'qa', 'qa',\n",
              "       'qa', 'qa', 'qa', 'chitchat', 'qa', 'qa', 'qa', 'qa', 'qa', 'qa',\n",
              "       'qa', 'qa', 'qa', 'qa', 'qa', 'qa', 'qa'], dtype=object)"
            ]
          },
          "metadata": {},
          "execution_count": 110
        }
      ]
    },
    {
      "cell_type": "code",
      "source": [
        "temp_dis = df['mode'].unique()[pred_qa]\n",
        "for i in range(len(temp_dis)):\n",
        "  if temp_dis[i] == 'chitchat':\n",
        "    print(test_df.iloc[i])"
      ],
      "metadata": {
        "colab": {
          "base_uri": "https://localhost:8080/"
        },
        "id": "QZoTR7ZIxxkn",
        "outputId": "1b65f4c9-1588-415f-a99b-dbb6d3a38625"
      },
      "execution_count": null,
      "outputs": [
        {
          "output_type": "stream",
          "name": "stdout",
          "text": [
            "id                            37\n",
            "question    ดอกเบี้ยรับ มาจากไหน\n",
            "Name: 36, dtype: object\n"
          ]
        }
      ]
    },
    {
      "cell_type": "markdown",
      "source": [
        "## test chitchat"
      ],
      "metadata": {
        "id": "XiWflC8mQXuw"
      }
    },
    {
      "cell_type": "code",
      "source": [
        "chit_test.columns = ['question']"
      ],
      "metadata": {
        "id": "5mD9sAIgQ59O"
      },
      "execution_count": null,
      "outputs": []
    },
    {
      "cell_type": "code",
      "source": [
        "qa_test = chit_test['question']"
      ],
      "metadata": {
        "id": "AeAQVuG0QZ1S"
      },
      "execution_count": null,
      "outputs": []
    },
    {
      "cell_type": "code",
      "source": [
        "vec_test = ws_tfidf.transform(qa_test)"
      ],
      "metadata": {
        "id": "WDHAb13PQbYq"
      },
      "execution_count": null,
      "outputs": []
    },
    {
      "cell_type": "code",
      "source": [
        "pred_qa = clf.predict(vec_test)"
      ],
      "metadata": {
        "id": "cmnwYq89Qe6V"
      },
      "execution_count": null,
      "outputs": []
    },
    {
      "cell_type": "code",
      "source": [
        "df['mode'].unique()[pred_qa]"
      ],
      "metadata": {
        "colab": {
          "base_uri": "https://localhost:8080/"
        },
        "id": "Zn38b8FYQfo4",
        "outputId": "39d49fc7-a83c-4dcc-c703-f9ca1eb39063"
      },
      "execution_count": null,
      "outputs": [
        {
          "output_type": "execute_result",
          "data": {
            "text/plain": [
              "array(['chitchat', 'chitchat', 'chitchat', 'chitchat', 'chitchat',\n",
              "       'chitchat', 'chitchat', 'chitchat', 'chitchat', 'chitchat',\n",
              "       'chitchat', 'chitchat', 'qa', 'chitchat', 'chitchat', 'chitchat',\n",
              "       'chitchat', 'chitchat', 'chitchat', 'qa', 'chitchat', 'chitchat',\n",
              "       'qa', 'qa', 'qa', 'chitchat', 'chitchat', 'qa', 'chitchat',\n",
              "       'chitchat', 'chitchat', 'chitchat', 'chitchat', 'chitchat',\n",
              "       'chitchat', 'chitchat', 'chitchat', 'chitchat', 'chitchat',\n",
              "       'chitchat', 'chitchat', 'qa', 'chitchat', 'chitchat', 'chitchat',\n",
              "       'chitchat', 'chitchat', 'chitchat', 'chitchat', 'chitchat',\n",
              "       'chitchat', 'chitchat', 'chitchat', 'chitchat', 'chitchat',\n",
              "       'chitchat', 'chitchat', 'chitchat', 'chitchat', 'qa', 'chitchat',\n",
              "       'chitchat', 'chitchat', 'chitchat', 'chitchat', 'chitchat',\n",
              "       'chitchat', 'chitchat', 'qa', 'qa', 'chitchat', 'chitchat',\n",
              "       'chitchat', 'chitchat', 'chitchat', 'chitchat', 'chitchat',\n",
              "       'chitchat', 'chitchat', 'qa', 'chitchat', 'chitchat', 'chitchat',\n",
              "       'chitchat', 'chitchat', 'chitchat', 'chitchat', 'chitchat',\n",
              "       'chitchat', 'chitchat', 'chitchat', 'qa', 'chitchat', 'chitchat',\n",
              "       'chitchat', 'chitchat', 'chitchat', 'chitchat', 'chitchat',\n",
              "       'chitchat', 'chitchat', 'qa', 'chitchat', 'chitchat', 'chitchat',\n",
              "       'chitchat', 'chitchat', 'chitchat', 'qa', 'chitchat', 'chitchat',\n",
              "       'chitchat', 'chitchat', 'chitchat', 'chitchat', 'chitchat',\n",
              "       'chitchat', 'chitchat', 'chitchat', 'chitchat', 'chitchat', 'qa',\n",
              "       'qa', 'qa', 'chitchat', 'chitchat', 'chitchat', 'chitchat',\n",
              "       'chitchat', 'chitchat', 'chitchat', 'chitchat', 'qa', 'chitchat',\n",
              "       'chitchat', 'qa', 'chitchat', 'chitchat', 'chitchat', 'chitchat',\n",
              "       'chitchat', 'chitchat', 'chitchat', 'chitchat', 'chitchat',\n",
              "       'chitchat', 'chitchat', 'chitchat', 'chitchat', 'qa', 'chitchat',\n",
              "       'chitchat', 'chitchat', 'chitchat', 'chitchat', 'chitchat',\n",
              "       'chitchat', 'chitchat', 'chitchat', 'qa', 'chitchat', 'chitchat',\n",
              "       'chitchat', 'chitchat', 'chitchat', 'qa', 'chitchat', 'chitchat',\n",
              "       'chitchat', 'chitchat', 'chitchat', 'chitchat', 'chitchat',\n",
              "       'chitchat', 'chitchat', 'chitchat', 'chitchat', 'chitchat',\n",
              "       'chitchat', 'chitchat', 'chitchat', 'qa', 'chitchat', 'chitchat',\n",
              "       'chitchat', 'chitchat', 'chitchat', 'chitchat', 'qa', 'chitchat',\n",
              "       'chitchat', 'chitchat', 'chitchat', 'chitchat', 'chitchat',\n",
              "       'chitchat', 'chitchat', 'qa', 'chitchat', 'chitchat', 'chitchat',\n",
              "       'chitchat', 'chitchat', 'chitchat', 'chitchat', 'chitchat',\n",
              "       'chitchat', 'chitchat', 'qa', 'qa', 'chitchat', 'chitchat',\n",
              "       'chitchat', 'chitchat', 'chitchat', 'chitchat', 'chitchat',\n",
              "       'chitchat', 'chitchat', 'chitchat', 'qa', 'chitchat', 'chitchat',\n",
              "       'chitchat', 'qa', 'chitchat', 'chitchat', 'chitchat', 'chitchat',\n",
              "       'chitchat', 'chitchat', 'chitchat', 'chitchat', 'qa', 'qa',\n",
              "       'chitchat', 'chitchat', 'qa', 'chitchat', 'chitchat', 'chitchat',\n",
              "       'qa', 'chitchat', 'chitchat', 'chitchat', 'chitchat', 'chitchat',\n",
              "       'qa', 'qa', 'chitchat', 'qa', 'chitchat', 'chitchat', 'chitchat',\n",
              "       'chitchat', 'chitchat', 'qa', 'chitchat', 'chitchat', 'qa', 'qa',\n",
              "       'qa', 'chitchat', 'chitchat', 'chitchat', 'chitchat', 'chitchat',\n",
              "       'chitchat', 'chitchat', 'chitchat', 'chitchat', 'chitchat',\n",
              "       'chitchat', 'chitchat', 'chitchat', 'chitchat', 'chitchat',\n",
              "       'chitchat', 'chitchat', 'chitchat', 'chitchat', 'qa', 'chitchat',\n",
              "       'chitchat', 'chitchat', 'chitchat', 'chitchat', 'chitchat',\n",
              "       'chitchat', 'chitchat', 'chitchat', 'chitchat', 'qa', 'chitchat',\n",
              "       'chitchat', 'chitchat', 'chitchat', 'chitchat', 'chitchat',\n",
              "       'chitchat', 'qa', 'chitchat', 'chitchat', 'chitchat', 'chitchat',\n",
              "       'chitchat', 'qa', 'chitchat', 'chitchat', 'chitchat', 'chitchat',\n",
              "       'chitchat', 'chitchat', 'chitchat', 'chitchat', 'chitchat',\n",
              "       'chitchat', 'qa', 'chitchat', 'chitchat', 'chitchat', 'chitchat',\n",
              "       'chitchat', 'chitchat', 'chitchat', 'chitchat', 'chitchat',\n",
              "       'chitchat', 'qa', 'qa', 'qa', 'chitchat', 'chitchat', 'chitchat',\n",
              "       'chitchat', 'chitchat', 'chitchat', 'chitchat', 'qa', 'chitchat',\n",
              "       'qa', 'chitchat', 'chitchat', 'chitchat', 'chitchat', 'chitchat',\n",
              "       'chitchat', 'chitchat', 'chitchat', 'chitchat', 'chitchat',\n",
              "       'chitchat', 'chitchat', 'chitchat', 'chitchat', 'chitchat',\n",
              "       'chitchat', 'chitchat', 'chitchat', 'chitchat', 'chitchat',\n",
              "       'chitchat', 'chitchat', 'chitchat', 'chitchat', 'chitchat',\n",
              "       'chitchat', 'chitchat', 'chitchat', 'chitchat', 'chitchat',\n",
              "       'chitchat', 'qa', 'chitchat', 'qa', 'chitchat', 'qa', 'chitchat',\n",
              "       'chitchat', 'qa', 'chitchat', 'chitchat', 'chitchat', 'chitchat',\n",
              "       'chitchat', 'chitchat', 'chitchat', 'chitchat', 'qa', 'qa', 'qa',\n",
              "       'chitchat', 'qa', 'chitchat', 'qa', 'chitchat', 'chitchat',\n",
              "       'chitchat', 'chitchat', 'chitchat', 'chitchat', 'chitchat', 'qa',\n",
              "       'chitchat', 'qa', 'chitchat', 'chitchat', 'chitchat', 'chitchat',\n",
              "       'chitchat', 'chitchat', 'chitchat', 'chitchat', 'chitchat',\n",
              "       'chitchat', 'qa', 'qa', 'chitchat', 'chitchat', 'chitchat',\n",
              "       'chitchat', 'chitchat', 'chitchat', 'qa', 'chitchat', 'chitchat',\n",
              "       'chitchat', 'chitchat', 'qa', 'chitchat', 'chitchat', 'chitchat',\n",
              "       'chitchat', 'qa', 'chitchat', 'chitchat', 'chitchat', 'qa',\n",
              "       'chitchat', 'chitchat', 'chitchat', 'chitchat', 'chitchat',\n",
              "       'chitchat', 'chitchat', 'chitchat', 'chitchat', 'chitchat',\n",
              "       'chitchat', 'chitchat', 'chitchat', 'chitchat', 'chitchat',\n",
              "       'chitchat', 'chitchat', 'qa', 'chitchat', 'chitchat', 'qa',\n",
              "       'chitchat', 'chitchat', 'qa', 'chitchat', 'chitchat', 'chitchat',\n",
              "       'chitchat', 'chitchat', 'chitchat', 'chitchat', 'chitchat',\n",
              "       'chitchat', 'chitchat', 'chitchat', 'chitchat', 'chitchat',\n",
              "       'chitchat', 'chitchat', 'chitchat', 'chitchat', 'chitchat',\n",
              "       'chitchat', 'chitchat', 'chitchat', 'chitchat', 'chitchat',\n",
              "       'chitchat', 'chitchat', 'qa', 'chitchat', 'chitchat', 'chitchat',\n",
              "       'chitchat', 'chitchat', 'chitchat', 'chitchat', 'chitchat',\n",
              "       'chitchat', 'chitchat', 'qa', 'qa', 'chitchat', 'qa', 'chitchat',\n",
              "       'chitchat', 'qa', 'chitchat', 'chitchat', 'chitchat', 'qa',\n",
              "       'chitchat', 'qa', 'chitchat', 'chitchat', 'chitchat', 'chitchat',\n",
              "       'chitchat', 'chitchat', 'chitchat', 'chitchat', 'chitchat',\n",
              "       'chitchat', 'chitchat', 'qa', 'chitchat', 'chitchat', 'chitchat',\n",
              "       'chitchat', 'chitchat', 'chitchat', 'chitchat', 'chitchat',\n",
              "       'chitchat', 'chitchat', 'qa', 'chitchat', 'chitchat', 'chitchat',\n",
              "       'chitchat', 'qa', 'chitchat', 'chitchat', 'chitchat', 'chitchat',\n",
              "       'chitchat', 'chitchat', 'chitchat', 'chitchat', 'chitchat', 'qa',\n",
              "       'qa', 'chitchat', 'chitchat', 'chitchat', 'qa', 'chitchat',\n",
              "       'chitchat', 'qa', 'chitchat', 'chitchat', 'chitchat', 'chitchat',\n",
              "       'chitchat', 'chitchat', 'chitchat', 'chitchat', 'chitchat',\n",
              "       'chitchat', 'chitchat', 'qa', 'qa', 'chitchat', 'chitchat', 'qa',\n",
              "       'chitchat', 'qa', 'chitchat', 'chitchat', 'chitchat', 'chitchat',\n",
              "       'chitchat', 'chitchat', 'qa', 'qa', 'chitchat', 'chitchat'],\n",
              "      dtype=object)"
            ]
          },
          "metadata": {},
          "execution_count": 146
        }
      ]
    },
    {
      "cell_type": "code",
      "source": [
        "temp_dis = df['mode'].unique()[pred_qa]\n",
        "for i in range(len(temp_dis)):\n",
        "  if temp_dis[i] == 'qa':\n",
        "    print(chit_test.iloc[i])"
      ],
      "metadata": {
        "colab": {
          "base_uri": "https://localhost:8080/"
        },
        "id": "fC_neeV2QgKk",
        "outputId": "f0e880bd-2d61-4d9f-eebc-eac035405a6a"
      },
      "execution_count": null,
      "outputs": [
        {
          "output_type": "stream",
          "name": "stdout",
          "text": [
            "question    ปลาตัวเล็กคืออะไร\n",
            "Name: 0, dtype: object\n",
            "question    วันนี้กินอะไรดี\n",
            "Name: 1, dtype: object\n",
            "question    นอนไม่หลับ ทำยังไงดี\n",
            "Name: 2, dtype: object\n",
            "question    แนะนำบอร์ดเกม น่าเล่นช่วงนี้หน่อย\n",
            "Name: 3, dtype: object\n",
            "question    แนะนำเกมออนไลน์เล่นกับเพื่อนหน่อย\n",
            "Name: 4, dtype: object\n",
            "question    ขอวิธีรวย โดยไม่ต้องทำงาน\n",
            "Name: 5, dtype: object\n",
            "question    นอนกี่ชั่วโมงดี ที่จะทำให้ร่างกายตื่นมาสดชื่น\n",
            "Name: 6, dtype: object\n",
            "question    ชอบหิวตอนดึกๆ แก้อย่างไรดี\n",
            "Name: 7, dtype: object\n",
            "question    วันหยุดยาวนี้ทำไรดี\n",
            "Name: 8, dtype: object\n",
            "question    อยากเก่งภาษาทำไงดี\n",
            "Name: 9, dtype: object\n",
            "question    เท่าไหร่\n",
            "Name: 10, dtype: object\n",
            "question    4Gหรือ2G?\n",
            "Name: 11, dtype: object\n",
            "question    เย็นกินไร\n",
            "Name: 13, dtype: object\n",
            "question    หมดวันไหน\n",
            "Name: 14, dtype: object\n",
            "question    เปนไงรสชาต\n",
            "Name: 15, dtype: object\n",
            "question    มีชีสมั้ยย\n",
            "Name: 16, dtype: object\n",
            "question    กี่บาทงะพี่\n",
            "Name: 17, dtype: object\n",
            "question    เคยเห็นมั้ย\n",
            "Name: 18, dtype: object\n",
            "question    นี่เซตไรค่ะ\n",
            "Name: 20, dtype: object\n",
            "question    แบนละเท่าไร\n",
            "Name: 21, dtype: object\n",
            "question    วีออสตัว2008\n",
            "Name: 25, dtype: object\n",
            "question    อุดรมีไหมค่ะ\n",
            "Name: 26, dtype: object\n",
            "question    ขอโปรyarisค่ะ\n",
            "Name: 28, dtype: object\n",
            "question    คีลส์ลดมั้ยคะ\n",
            "Name: 29, dtype: object\n",
            "question    ที่ไหนไกล้ๆอะ\n",
            "Name: 30, dtype: object\n",
            "question    ทุกสาขาป่ะคะ?\n",
            "Name: 31, dtype: object\n",
            "question    บุฟเฟ่ต์จงมา~\n",
            "Name: 32, dtype: object\n",
            "question    มีของ 4u2 ไหม\n",
            "Name: 33, dtype: object\n",
            "question    มีรีโว่ไหมค่ะ\n",
            "Name: 34, dtype: object\n",
            "question    ร่วมบริการค่ะ\n",
            "Name: 35, dtype: object\n",
            "question    ลดเหลือเท่าไร\n",
            "Name: 36, dtype: object\n",
            "question    อยู่ชมแพมีไหม\n",
            "Name: 37, dtype: object\n",
            "question    กันแดดดีมั้ยคะ\n",
            "Name: 38, dtype: object\n",
            "question    เดอะบามเท่ารัย\n",
            "Name: 39, dtype: object\n",
            "question    มิสทีนดีมั้ยคะ\n",
            "Name: 40, dtype: object\n",
            "question    สี่ประตูเป่าคะ\n",
            "Name: 42, dtype: object\n",
            "question    เพชรบุรีทำไมปิด\n",
            "Name: 43, dtype: object\n",
            "question    สอยไรมา nyx หรอ\n",
            "Name: 44, dtype: object\n",
            "question    3ce ยังอยู่ไหมคะ\n",
            "Name: 45, dtype: object\n",
            "question    Kiehl’s ขายยังคะ\n",
            "Name: 46, dtype: object\n",
            "question    Ver88 เท่าไหร่คะ\n",
            "Name: 47, dtype: object\n",
            "question    จะไหว้อะไรดีอะคะ\n",
            "Name: 48, dtype: object\n",
            "question    ชุมพรมั้ยอ้ะ?!😂\n",
            "Name: 49, dtype: object\n",
            "question    ท่านละกี่บาทครับ\n",
            "Name: 50, dtype: object\n",
            "question    แป้งchoเท่าไรค่ะ\n",
            "Name: 51, dtype: object\n",
            "question    ฟิวเจอร์มีไหมค่ะ\n",
            "Name: 52, dtype: object\n",
            "question    มันคิดเป็นหัวหรา\n",
            "Name: 53, dtype: object\n",
            "question    มันต้องใส่2คนป้ะ\n",
            "Name: 54, dtype: object\n",
            "question    มีแอลกอฮอลมั้ยคะ\n",
            "Name: 55, dtype: object\n",
            "question    รสชาติเปนยังไงคะ\n",
            "Name: 56, dtype: object\n",
            "question    ลงชื่อตรงไหนครับ\n",
            "Name: 57, dtype: object\n",
            "question    วันนี้มีของรึยัง\n",
            "Name: 58, dtype: object\n",
            "question    Mamondeเท่าไหร่คะ\n",
            "Name: 60, dtype: object\n",
            "question    peripera ขายยังคะ\n",
            "Name: 61, dtype: object\n",
            "question    จำกัดเวลาไหม่ครับ\n",
            "Name: 62, dtype: object\n",
            "question    ทั้งชุด599หรอครับ\n",
            "Name: 63, dtype: object\n",
            "question    โทร 1642ใช่ป่าวคะ\n",
            "Name: 64, dtype: object\n",
            "question    บิโอเร เท่าไหร่คะ\n",
            "Name: 65, dtype: object\n",
            "question    เป็นตัวท๊อปไช่ไหม\n",
            "Name: 66, dtype: object\n",
            "question    ภูเก็ตขอถึงยังง่ะ\n",
            "Name: 67, dtype: object\n",
            "question    ลดเหลือเท่าไหร่คะ\n",
            "Name: 70, dtype: object\n",
            "question    ลังโคมเท่าไหร่ค่ะ\n",
            "Name: 71, dtype: object\n",
            "question    ลิป 3ce มีมั้ยค่ะ\n",
            "Name: 72, dtype: object\n",
            "question    วีออสดาวเทาไรครับ\n",
            "Name: 73, dtype: object\n",
            "question    แอร์แบลคกี่ใบครับ\n",
            "Name: 74, dtype: object\n",
            "question    4u2 สีขาวเบอร์ไรคะ\n",
            "Name: 75, dtype: object\n",
            "question    Dmaxปี06เทินได้ไหม\n",
            "Name: 76, dtype: object\n",
            "question    ตอนนี้ปิดบริการน้า\n",
            "Name: 77, dtype: object\n",
            "question    น่าจะทุกสาขาไหมค่ะ\n",
            "Name: 78, dtype: object\n",
            "question    ไม่รู้ดิ เอาไปด้วย\n",
            "Name: 80, dtype: object\n",
            "question    รองพื้น nars ดีป่ะ\n",
            "Name: 81, dtype: object\n",
            "question    วีออสหลุดมีอีกมั้ย\n",
            "Name: 82, dtype: object\n",
            "question    หาซื้อได้ที่ไหนค่ะ\n",
            "Name: 83, dtype: object\n",
            "question    4x4 ไหมครับ รุ่นนี้\n",
            "Name: 84, dtype: object\n",
            "question    Mazda cx3 ดีมั้ยอ่ะ\n",
            "Name: 85, dtype: object\n",
            "question    ของนาวาร่ามีป่าวคับ\n",
            "Name: 86, dtype: object\n",
            "question    คาแรงส์50mlมีไหมค่ะ\n",
            "Name: 87, dtype: object\n",
            "question    ดีมั้ยคะสาวกคิวเพลส\n",
            "Name: 88, dtype: object\n",
            "question    ที่ไหน biothermกูละ\n",
            "Name: 89, dtype: object\n",
            "question    บุหรี่ไฟฟ้าบ่ปไหมคะ\n",
            "Name: 90, dtype: object\n",
            "question    เพอริเพอร่าไปยังค่ะ\n",
            "Name: 92, dtype: object\n",
            "question    มาสด้าโทรมไว้ไปป่าว\n",
            "Name: 93, dtype: object\n",
            "question    รสชาติ เป้นไงมังคับ\n",
            "Name: 94, dtype: object\n",
            "question    รออดีกว่าเชื่อเค้าส\n",
            "Name: 95, dtype: object\n",
            "question    ระบบเก็บเสียงดีมาก?\n",
            "Name: 96, dtype: object\n",
            "question    ลาโรชหรือยูเซอรีนดี\n",
            "Name: 97, dtype: object\n",
            "question    สั่งกลับบ้านด้ายไหม\n",
            "Name: 98, dtype: object\n",
            "question    สาขาอยุธยาร่วมไหมคะ\n",
            "Name: 99, dtype: object\n",
            "question    อยุธยามีบุฟเฟ่ไหมคะ\n",
            "Name: 100, dtype: object\n",
            "question    ขอรายละเอียดหน่อยคับ\n",
            "Name: 102, dtype: object\n",
            "question    คูปองใช้ได้ถึงวันไหน\n",
            "Name: 103, dtype: object\n",
            "question    เซนทรัลราม2มีมั้ยค่ะ\n",
            "Name: 104, dtype: object\n",
            "question    เทียน่าหรือซิลฟี่คับ\n",
            "Name: 105, dtype: object\n",
            "question    นาวาร่าลงรุ่นไหนครับ\n",
            "Name: 106, dtype: object\n",
            "question    แบบนี้ชุดเท่าไหร่ค่ะ\n",
            "Name: 107, dtype: object\n",
            "question    ปาลิโอ ไม่ร่วมหรอค่ะ\n",
            "Name: 109, dtype: object\n",
            "question    มาสด้าจ่าย700เหรอคับ\n",
            "Name: 110, dtype: object\n",
            "question    มีใครรับพรีอินนิสฟรี\n",
            "Name: 111, dtype: object\n",
            "question    มีโปรมาสด้า3 มั้สค่ะ\n",
            "Name: 112, dtype: object\n",
            "question    รีฟิลราคาเท่าไหร่ค่ะ\n",
            "Name: 113, dtype: object\n",
            "question    แล้วโปรวันพ่ออะไรค่ะ\n",
            "Name: 114, dtype: object\n",
            "question    สาขาราชบุรีมีรึยังคะ\n",
            "Name: 115, dtype: object\n",
            "question    หรือชัยนาทมีป่าวหว่า\n",
            "Name: 116, dtype: object\n",
            "question    โอนแล้วกี่ ชม.จะเข้า\n",
            "Name: 117, dtype: object\n",
            "question    Laneige ยังอยู่มั้ยคะ\n",
            "Name: 118, dtype: object\n",
            "question    โคราชมีสาขาไหนบ้างค่ะ\n",
            "Name: 119, dtype: object\n",
            "question    ชุดทรูนังมีอยู่ไหมค่ะ\n",
            "Name: 120, dtype: object\n",
            "question    บิ๊กซีลำพูนร่วมมั้ยคะ\n",
            "Name: 124, dtype: object\n",
            "question    ภูเก็ตมีสักสาขามั้ยคะ\n",
            "Name: 125, dtype: object\n",
            "question    วันไหนละ ไม่จำกัดเวลา\n",
            "Name: 126, dtype: object\n",
            "question    สาขาไหนเนี่ยที่ชลบุรี\n",
            "Name: 127, dtype: object\n",
            "question    อ.แม่สอด ร่วมมั้ยครับ\n",
            "Name: 128, dtype: object\n",
            "question    เอาบีที50เทินใด้ก่คับ\n",
            "Name: 129, dtype: object\n",
            "question    กล่องแจกทุกสาขามั้ยค่ะ\n",
            "Name: 130, dtype: object\n",
            "question    ขอรายลพเอียดมาสด้า2ค่ะ\n",
            "Name: 131, dtype: object\n",
            "question    ขอรายละเอียดมาสด้า 2มา\n",
            "Name: 133, dtype: object\n",
            "question    ซื้อที่ไหนค่ะ. อยากลอง\n",
            "Name: 134, dtype: object\n",
            "question    โตโยต้าวิช เท่าไหรครับ\n",
            "Name: 136, dtype: object\n",
            "question    แปรงอีทูดี้ยังมีมั้ยคะ\n",
            "Name: 137, dtype: object\n",
            "question    มีใส่ mu-x บ้างไหมครับ\n",
            "Name: 138, dtype: object\n",
            "question    แล้ว แอคคอดไม่มาโชว์รึ\n",
            "Name: 139, dtype: object\n",
            "question    วันนี้มีBiothermมั้ยคะ\n",
            "Name: 140, dtype: object\n",
            "question    อยากได้ ส่งไปรษณีย์ไหม\n",
            "Name: 141, dtype: object\n",
            "question    ออนิววีออสเท่าไหร่ครับ\n",
            "Name: 142, dtype: object\n",
            "question    ซื้อที่ไหนครับ ขนาดลิตร\n",
            "Name: 143, dtype: object\n",
            "question    น้ำซุปอิสลามทานได้ไหมคะ\n",
            "Name: 144, dtype: object\n",
            "question    ป๋า กูน 528 พอใช้ไหมคับ\n",
            "Name: 145, dtype: object\n",
            "question    พาเลท the balm เท่าไรคะ\n",
            "Name: 146, dtype: object\n",
            "question    พี่จินมีโจมาโลนกี่ขวดคะ\n",
            "Name: 147, dtype: object\n",
            "question    มาสด้า 2 ห้าประตูมีมั้ย\n",
            "Name: 148, dtype: object\n",
            "question    แล้วมีสาขาไหนบ้างโปรนี้\n",
            "Name: 150, dtype: object\n",
            "question    ฮอนด้าบรีโอ้มีไหมค้ะ 👀\n",
            "Name: 151, dtype: object\n",
            "question    20% ต้องจ่ายเท่าไหร่ครับ\n",
            "Name: 152, dtype: object\n",
            "question    กันแดด Anessa เท่าไหร่คะ\n",
            "Name: 153, dtype: object\n",
            "question    โจมาโลน อองลีสแพเท่าไรคะ\n",
            "Name: 154, dtype: object\n",
            "question    ชุดนี้กิน 3 คนจะอิ่มป่าว\n",
            "Name: 155, dtype: object\n",
            "question    เดอะมอลโคราช มีมั๊ยอ่ะ😮\n",
            "Name: 156, dtype: object\n",
            "question    ตอนนี้ราคาต่อคนเท่าไรค่ะ\n",
            "Name: 157, dtype: object\n",
            "question    ถ้าสนใจต้องจ่ายเท่าไรคับ\n",
            "Name: 158, dtype: object\n",
            "question    บ้านเราไม่ผ่านเพราะไรป๋า\n",
            "Name: 160, dtype: object\n",
            "question    บิ๊กชี มหาชัยไม่มีหรอค่ะ\n",
            "Name: 161, dtype: object\n",
            "question    มาร์กหน้ากานีเย่ดีมั้ยอะ\n",
            "Name: 162, dtype: object\n",
            "question    มาสด้า2มีดีเซลด้วยหรอคับ\n",
            "Name: 163, dtype: object\n",
            "question    มีน้ำหอมของชาแนลมั้ยครับ\n",
            "Name: 164, dtype: object\n",
            "question    ไม่มีบัตรสมาชิกลดมั้ยค่ะ\n",
            "Name: 166, dtype: object\n",
            "question    โลตัสกำแพงเพชร ลดมั้ยค่ะ\n",
            "Name: 167, dtype: object\n",
            "question    สนใจนะผ่อนเดือนเท่าไรคับ\n",
            "Name: 168, dtype: object\n",
            "question    เดอะมอลล์ท่าพระมี299ไหมคะ\n",
            "Name: 169, dtype: object\n",
            "question    ทีทาตาสิวันนาเบอร์อรัยอ่ะ\n",
            "Name: 170, dtype: object\n",
            "question    นาวาร่า 4D 2012 มีไหมครับ\n",
            "Name: 171, dtype: object\n",
            "question    มีนิสสันซิลฟี่หรือไม่ครับ\n",
            "Name: 172, dtype: object\n",
            "question    มีมาสด้า 2ไหม ค่ะ สนใจค่ะ\n",
            "Name: 173, dtype: object\n",
            "question    มีลิปเมลินดาเบอร์03ไหมค่ะ\n",
            "Name: 174, dtype: object\n",
            "question    เมื่อกี้เอสเต้เค้าได้มั้ย\n",
            "Name: 175, dtype: object\n",
            "question    ไม่รู้ชัยภูมิร่วมด้วยป่าว\n",
            "Name: 176, dtype: object\n",
            "question    แล้วของออนิวยาริสมีไหมคับ\n",
            "Name: 177, dtype: object\n",
            "question    สนใจค่ะดาวเท่ามีคนคํ้าไหม\n",
            "Name: 178, dtype: object\n",
            "question    อันไหน mamonde ไหนบอกมาาา\n",
            "Name: 179, dtype: object\n",
            "question    เฮดแอนโชเดอร์ลดราคาไหมค่ะ\n",
            "Name: 180, dtype: object\n",
            "question    mamonde 15 ยังมีอยู่มั้ยคพ\n",
            "Name: 182, dtype: object\n",
            "question    Supermom หาซื้อได้ที่ไหนคะ\n",
            "Name: 183, dtype: object\n",
            "question    ขอดู ฮอนด้าซิตี้ 2014 ครับ\n",
            "Name: 184, dtype: object\n",
            "question    ขอรคา New Pajero sport คับ\n",
            "Name: 185, dtype: object\n",
            "question    ขอรายละเอียดนิสสันมาร์ชคับ\n",
            "Name: 186, dtype: object\n",
            "question    ขอรายละเอียดยาริสหน่อยครับ\n",
            "Name: 187, dtype: object\n",
            "question    แดกไก่ทอดข้างโรหรือแมคดีๆๆ\n",
            "Name: 189, dtype: object\n",
            "question    ทำไมนาวาร่ายอดขายแย่จัดจัง\n",
            "Name: 190, dtype: object\n",
            "question    พี่ตู่แป้งเจ้านางใช้ดีมั้ย\n",
            "Name: 191, dtype: object\n",
            "question    แล้วมันจะรั่วซึมไหมครับป๋า\n",
            "Name: 192, dtype: object\n",
            "question    สนใจยาริส อยากทราบดอกเบี้ย\n",
            "Name: 193, dtype: object\n",
            "question    สมัครแล้วใช้ลดได้เลยไหมค่ะ\n",
            "Name: 194, dtype: object\n",
            "question    เสียค่าเตาย่างเพิ่มไหมครับ\n",
            "Name: 195, dtype: object\n",
            "question    หิ้วเข้ามาจะโดนไหมคะใช้เอง\n",
            "Name: 196, dtype: object\n",
            "question    คุชชั่น ysl ติดทนดีมั่ยคะ??\n",
            "Name: 198, dtype: object\n",
            "question    จ่ายด้วย voucher ได้ไหมครับ\n",
            "Name: 199, dtype: object\n",
            "question    ใช้สิทธิได้ครั้งเดียวหรือคะ\n",
            "Name: 200, dtype: object\n",
            "question    ดาวยาริส 100000 ส่งเท่าไหร่\n",
            "Name: 201, dtype: object\n",
            "question    เติมแล้ว ได้คะแนนสะสมไหมค่ะ\n",
            "Name: 202, dtype: object\n",
            "question    โตโยต้า รีโว้นี้หรูแล้วหราา\n",
            "Name: 203, dtype: object\n",
            "question    บาบาร่าขนาดเล็กซื้อจากไหนคะ\n",
            "Name: 204, dtype: object\n",
            "question    เปลี่ยนโปรโมชั่นทำยังไงครับ\n",
            "Name: 205, dtype: object\n",
            "question    มีค่าน้ำค่าไรเพิ่มเติมอีกปะ\n",
            "Name: 206, dtype: object\n",
            "question    ลาเนจ สีชมพูมะกี้เท่าไหร่คะ\n",
            "Name: 207, dtype: object\n",
            "question    เส้นbtsมีสาขาไหนบ้างที่ร่วม\n",
            "Name: 210, dtype: object\n",
            "question    I6s เปิดเบอร์ใหม่เท่าไหร่ค่ะ\n",
            "Name: 211, dtype: object\n",
            "question    KYB แคปติว่าราคาเท่าไหร่ครับ\n",
            "Name: 212, dtype: object\n",
            "question    กล่อง คสอ nyx ยังมีของมั้ยคะ\n",
            "Name: 213, dtype: object\n",
            "question    ของดีแม็ก หัวเดียวมีมั้ยครับ\n",
            "Name: 214, dtype: object\n",
            "question    นิสสันเกียร์ย้อยลูกเท่าไรคับ\n",
            "Name: 215, dtype: object\n",
            "question    เบอทรูโอนเงินให้กันได้มั๊ยคะ\n",
            "Name: 216, dtype: object\n",
            "question    แบรนด์sivannaมีของปลอมมั้ยคะ\n",
            "Name: 217, dtype: object\n",
            "question    ปีนี้จัดโปรบุฟเฟ่ไหมก้อนนนนน\n",
            "Name: 218, dtype: object\n",
            "question    แป้งฝุ่นลอร่าราคาเท่าไหร่ค่ะ\n",
            "Name: 219, dtype: object\n",
            "question    มีน้ำหอม Dior addict มั้ยค่ะ\n",
            "Name: 221, dtype: object\n",
            "question    ร่วมรายการสี่ช่องหรือเปล่าคะ\n",
            "Name: 222, dtype: object\n",
            "question    ลด20%เหลือเท่าไหร่ แอ๊ดดดดดด\n",
            "Name: 223, dtype: object\n",
            "question    สุพรรณบุรีมีบริการส่งมั้ยค่ะ\n",
            "Name: 225, dtype: object\n",
            "question    อเมร่า 2013 ชั้น 1 เท่าไรค่ะ\n",
            "Name: 226, dtype: object\n",
            "question    เอ็มเคมีบุบเฟ่ต์ดั้วะอ่อวะะะ\n",
            "Name: 227, dtype: object\n",
            "question    โฮมโปรสาขาเลย ไม่มีโปรเหรอคะ\n",
            "Name: 228, dtype: object\n",
            "question    L'Oréal Paris กันแดดตัวไหนค่ะ\n",
            "Name: 229, dtype: object\n",
            "question    Sulwhasoo นี่น่าตำมั้ยงะๆๆๆๆๆ\n",
            "Name: 230, dtype: object\n",
            "question    ขอรายละเอียด mazda 2 หน่อยคับ\n",
            "Name: 231, dtype: object\n",
            "question    ชุดนี้ใส่รีโว่4ประตูได้ป่ะคับ\n",
            "Name: 232, dtype: object\n",
            "question    แป้งฝุ่นลอร่ามี่มั้ย.เท่าไหร่\n",
            "Name: 235, dtype: object\n",
            "question    ลังโคม อินเลิฟ ร่วมด้วยไหมค่ะ\n",
            "Name: 236, dtype: object\n",
            "question    วีออสตัวนี้ผ่อนประมานเท่าไหร่\n",
            "Name: 238, dtype: object\n",
            "question    หมดเขต วันที่31 กี่โมงหรอครับ\n",
            "Name: 239, dtype: object\n",
            "question    biotherm ขวดนี้้ใช้ได้นานไหมคะ\n",
            "Name: 240, dtype: object\n",
            "question    MK มีชุดสำหรับสาย vegan ไหมคะ?\n",
            "Name: 242, dtype: object\n",
            "question    จะรอโปรรีฟิลน้าาาก้อนนน 😍😍😍\n",
            "Name: 243, dtype: object\n",
            "question    เตาอยากที่โฮมโปรลพบุรีมีไหมค่ะ\n",
            "Name: 244, dtype: object\n",
            "question    น้ำตบโทนี่โมลี่ดีไหมวะ55555555\n",
            "Name: 245, dtype: object\n",
            "question    มีอายชโดว์ tarte in boom ไหมคะ\n",
            "Name: 246, dtype: object\n",
            "question    ลิ้นหน้ารถวีออสปี46เท่าไหร่คับ\n",
            "Name: 249, dtype: object\n",
            "question    สาขาไหนเนี่ยะ ซูชิ เยอะขนาดนี้\n",
            "Name: 251, dtype: object\n",
            "question    1000 สิทธิ์ทั่วประเทศใช่ไหมครับ\n",
            "Name: 252, dtype: object\n",
            "question    โตโยต้าวิโก้4ปะตูส่งเดือนเท่าไร\n",
            "Name: 253, dtype: object\n",
            "question    ทำไมไม่เก็บภาษีบุหรี่ไฟฟ้าอะคับ\n",
            "Name: 254, dtype: object\n",
            "question    มีศูยน์เลิกบุหรี่ไฟฟ้ารึยังครับ\n",
            "Name: 255, dtype: object\n",
            "question    สอบถามคะ MG3 ดาวน์ ผ่อนเท่าไรคะ\n",
            "Name: 257, dtype: object\n",
            "question    สิปคิ้วเพลสสีอะไรราคาเท่าไหร่คะ\n",
            "Name: 258, dtype: object\n",
            "question    เทียบกับเรฟล่อน เป็นไงบ้างคะน้อง\n",
            "Name: 262, dtype: object\n",
            "question    โปรนี้อยุ่ถึงเดือนไหนค่ะ mazda 2\n",
            "Name: 263, dtype: object\n",
            "question    มาสด้าสามสี่ประตูราคาเท่าไหร่คับ\n",
            "Name: 264, dtype: object\n",
            "question    มีสาขาไหนใกล้ๆ เพชรบูรณ์มั่งก้อน\n",
            "Name: 265, dtype: object\n",
            "question    ลิป mamonde เมื่อไหน่จะมาถึงบ้าน\n",
            "Name: 266, dtype: object\n",
            "question    สนใจ mg3 ค่ะ โชว์รูมอยุ่แถวไหนคะ\n",
            "Name: 267, dtype: object\n",
            "question    หุ้มพวงมาลัย มาสด้า 3 เท่าไรครับ\n",
            "Name: 268, dtype: object\n",
            "question    อยากรู้ชุดแต่งATIVมีเยอะมั้ยครับ\n",
            "Name: 269, dtype: object\n",
            "question    Burberry brit เท่าไหร่ครับพี่โซดา\n",
            "Name: 270, dtype: object\n",
            "question    mamonde นอกจาก11แลเวสีไหนสวยอีกวะ\n",
            "Name: 271, dtype: object\n",
            "question    Smooto สลีปปิ้งเซรั่ม ใช้ดีมั้ยคะ\n",
            "Name: 272, dtype: object\n",
            "question    เชียงใหม่แบบเตาปิ้งสาขาไหนบ้างค่ะ\n",
            "Name: 273, dtype: object\n",
            "question    บลัชออนของนาร์สดีไหมคะ ติดทนไหมคะ\n",
            "Name: 274, dtype: object\n",
            "question    แป้งฝุ่นของสิวันนา110บาทหมดยังค่ะ\n",
            "Name: 275, dtype: object\n",
            "question    พี่อชิไพร์เมอร์เวทแอนวายดีมั้ยยคะ\n",
            "Name: 276, dtype: object\n",
            "question    มีลายบัตรใหม่ของปี 2018 แล้วยังคะ\n",
            "Name: 277, dtype: object\n",
            "question    สนใจนาวาร่า ผ่อนเดือนล่ะเท่าไรคับ\n",
            "Name: 278, dtype: object\n",
            "question    อายแชโดว์sivanna 6ช่องเท่าไหร่ค้ะ\n",
            "Name: 279, dtype: object\n",
            "question    Almera ผ่อนเดือนละเท่าไรค่ะ กี่งวด\n",
            "Name: 280, dtype: object\n",
            "question    เงินดาวแค่19000จะส่งเดือนเท่าไรคับ\n",
            "Name: 282, dtype: object\n",
            "question    เซรั่มกานิเย่กับกันแดดเท่าไหร่งับ?\n",
            "Name: 283, dtype: object\n",
            "question    ทำไมบางสาขาไม่ร่วมรายกายแต่ราคา399\n",
            "Name: 284, dtype: object\n",
            "question    ทุกสาขาไหมค่ะ รวมเตาย่างด้วยรึป่าว\n",
            "Name: 285, dtype: object\n",
            "question    ฟอร์จูนเนอร์ ใกล้เปลี่ยนโฉมยังครับ\n",
            "Name: 286, dtype: object\n",
            "question    มาสด้า2ผ่อนไม่เกิน6000ดาวเท่าไรค่ะ\n",
            "Name: 287, dtype: object\n",
            "question    สาขาโรบินสันฉะเชิงเทรามีส่งไหมครับ\n",
            "Name: 288, dtype: object\n",
            "question    Eucerin มีรูปผลิตภัณฑ์ที่แนะนำไหมคะ\n",
            "Name: 289, dtype: object\n",
            "question    Mazda vision coupe เข้าไทยปีไหนครับ\n",
            "Name: 290, dtype: object\n",
            "question    Nissan sylphy ลดแล้วเหลือเท่าไรครับ\n",
            "Name: 291, dtype: object\n",
            "question    แค็บออกรถราคานี้ส่งเดือนเท่าไหร่ค่ะ\n",
            "Name: 293, dtype: object\n",
            "question    ใช้นีเวียทำไมหน้ามีแต่สิวครัชพี่เบล\n",
            "Name: 294, dtype: object\n",
            "question    ดีแมค4ประตูมีไหมปึ06ถ้ามีขหน่อยครับ\n",
            "Name: 295, dtype: object\n",
            "question    ทำไมไปกินที่เซ็นทรัลพระราม2 คิด399บ\n",
            "Name: 296, dtype: object\n",
            "question    นาวาราแค็ปมีมัยคราบราคาเท่าไหร่คราบ\n",
            "Name: 297, dtype: object\n",
            "question    มาสด้า 2 ออกรถเพียง 9,900 จริงหรอคะ\n",
            "Name: 298, dtype: object\n",
            "question    ยังไม่เข้าระบบเหรอคะ หาไม่เจอเลยค่ะ\n",
            "Name: 299, dtype: object\n",
            "question    ส่วนลด 2 แสน ของ Mazda2 เหรอครับ ^^\n",
            "Name: 301, dtype: object\n",
            "question    สาขาเดอะมอลลบางกะปิยังมีอยู่ไหมครับ\n",
            "Name: 302, dtype: object\n",
            "question    Mazda cx8 มีโอกาสเข้ามาในไทยมั้ยครับ\n",
            "Name: 303, dtype: object\n",
            "question    กับ acne aidได้ไหมคะ มันไม่ใช่โฟม555\n",
            "Name: 304, dtype: object\n",
            "question    ใครปัดไฮไลท์แล้วเป็นผด+สิวอุดตันบ้าง\n",
            "Name: 305, dtype: object\n",
            "question    แต่ละน้ำซุปเพิ่มเงินเท่าไหร่บ้างครับ\n",
            "Name: 307, dtype: object\n",
            "question    บัตรหมดอายุ ต้องทำใหม่ หรือต่อได้ค่ะ\n",
            "Name: 308, dtype: object\n",
            "question    พี่มดคะ แป้ง nars สี orgusm สวยไหมคะ\n",
            "Name: 309, dtype: object\n",
            "question    มี Chevrolet Cruze ตัวท๊อป บ้างไมค่ะ\n",
            "Name: 310, dtype: object\n",
            "question    วันพุธ ยังมี มา 4 จ่าย 3 หรือเปล่าคะ\n",
            "Name: 311, dtype: object\n",
            "question    วันพุธมีโปรลด20เปอเซ็น ได้ถึงกี่ทุ่ม\n",
            "Name: 312, dtype: object\n",
            "question    อยากทราบว่าที่ภูเก็ตมีมั้ยคะ เเถวไหน\n",
            "Name: 313, dtype: object\n",
            "question    New ยาริส ดาวน์เท่าไรคับ ขอรายละเอียด\n",
            "Name: 314, dtype: object\n",
            "question    shishedo กับ anessa อันไหนดีกว่ากันคะ\n",
            "Name: 315, dtype: object\n",
            "question    ช่วยเช็คพื้นที่ให้ด้วยนะครับ ทางInbox\n",
            "Name: 316, dtype: object\n",
            "question    มองว่าไงถ้าเทียบกับ HRV และ Subaru XV\n",
            "Name: 318, dtype: object\n",
            "question    มีดีกรีเท่าไหร่คับ รบกวนถาม ชอบคุณคับ\n",
            "Name: 319, dtype: object\n",
            "question    รุ่น แจส กับ ยาริส ราคาปะมานเท่าไรค่ะ\n",
            "Name: 320, dtype: object\n",
            "question    Mazda 2 2018 จะได้อัพไหมครับ และตอนไหน\n",
            "Name: 321, dtype: object\n",
            "question    คุณแพรน้ำตบ skii 230กับ 330 เท่าไหร่คะ\n",
            "Name: 322, dtype: object\n",
            "question    เฉพาะกระจังหน้า Subaru XV เท่าไหร่ครับ\n",
            "Name: 323, dtype: object\n",
            "question    ช่วยรีวิว ลิป in2it ตัวใหม่ ตัวลิมิเตด\n",
            "Name: 324, dtype: object\n",
            "question    ตัวนี้กับ dior lipglow แนะนำตัวไหนดีคะ\n",
            "Name: 325, dtype: object\n",
            "question    แป้งฝุ่นศรีจันทร์คนหน้ามันใช้ได้ไหมค่ะ\n",
            "Name: 326, dtype: object\n",
            "question    สาขาบิ๊กซีบางพลีมีโปรโมชั่น 599 ป่าวค๊\n",
            "Name: 327, dtype: object\n",
            "question    ใช้acne aid แล้วทำไมหน้ายังมันอยู่อีกอะ\n",
            "Name: 331, dtype: object\n",
            "question    ที่สาขาโรบินสันสระบุรีไม่มีแล้วหรือคร้า\n",
            "Name: 332, dtype: object\n",
            "question    นาวาร่า NP300 จะเปลี่ยนโฉมเมื่อไหร่ครับ\n",
            "Name: 333, dtype: object\n",
            "question    ไปวันเกิดได้ส่วนลดไหมค่ะ ตกหัวล่ะเท่าไร\n",
            "Name: 334, dtype: object\n",
            "question    พี่แพรมีน้ำหอม Armani code women ไหมค่ะ\n",
            "Name: 335, dtype: object\n",
            "question    สอบถามหน่อยนะคะ บลัชออนของ 3ce สีอะไรคะ\n",
            "Name: 336, dtype: object\n",
            "question    สาขาที่ให้บริการกะทะทองมีสาขาไหนบ้างค่ะ\n",
            "Name: 337, dtype: object\n",
            "question    Canmake เบอร์14 ราคาเท่าไหร่หรอคะคุณดรีม\n",
            "Name: 339, dtype: object\n",
            "question    ตัวเตี้ยรีโว่จะอัพหน้า อัพเกียร์จริงไหม?\n",
            "Name: 341, dtype: object\n",
            "question    ปีนกับบุหรี่ไฟฟ้าอันไหนรุ่นแรงกว่ากันค่ะ\n",
            "Name: 342, dtype: object\n",
            "question    พี่ครับทดลองขับJazzแล้วสะเทือนแรงไหมครับ\n",
            "Name: 343, dtype: object\n",
            "question    ร้านไหนรับพรี skinfood innisfree บ้างคับ\n",
            "Name: 344, dtype: object\n",
            "question    ลูกหมากหน้าล่าง Lancer ex ขอราคาด้วยครับ\n",
            "Name: 345, dtype: object\n",
            "question    วีออสไส่แม็กยางเท่าไรครับถึงหล่อสวยขับดี\n",
            "Name: 346, dtype: object\n",
            "question    อาจารย์โตโยต้า.รัชจะเข้าไทยหรือเปล่าครับ\n",
            "Name: 347, dtype: object\n",
            "question    เอานิสสันมาคร์เทรินได้ไหมเหลืออีกแสนนิดๆ\n",
            "Name: 348, dtype: object\n",
            "question    Nissan note e-power ปีนี้จะได้เห็นไหมครับ\n",
            "Name: 349, dtype: object\n",
            "question    peripera water balm ตัวเองซื้อจากไหนหรอคะ\n",
            "Name: 350, dtype: object\n",
            "question    Yaris​ Ativ​ ใช้เกียร์​ตัวนี้มั้ยครับช่าง\n",
            "Name: 351, dtype: object\n",
            "question    บลัช missha กะ holika อะไหนเนื้อดีกว่าอ่า\n",
            "Name: 352, dtype: object\n",
            "question    ผมเส้นเลือดในสมองแตก สูบไปมีผลอะไรไหมครับ\n",
            "Name: 353, dtype: object\n",
            "question    มีฮอนด้าแจ็สไหมค่ะดาวเท่าไหร่ค่ะงวดหละค่ะ\n",
            "Name: 354, dtype: object\n",
            "question    รองพื้น NYX ใหม่ หรือ Etude lasting ดีน้า\n",
            "Name: 355, dtype: object\n",
            "question    สาขา เซ็นทรัลพระราม3 โลตัสพระราม3 ร่วมไหม\n",
            "Name: 356, dtype: object\n",
            "question    สาขาไหนลอบ้างค่ะ และมัยจำกัดเวลาใช่มัยค่ะ\n",
            "Name: 357, dtype: object\n",
            "question    อยู่เมืองชลบุรีแป้งเจ้านางซื้อได้ที้ไหนคะ\n",
            "Name: 358, dtype: object\n",
            "question    ISUZU METRO แล้วสี่ประตูล่ะครับดาวย์เท่าไร\n",
            "Name: 359, dtype: object\n",
            "question    Mk pasio สุขา3 (รามคำแหง) ร่วมรายการมั๊ยคะ\n",
            "Name: 360, dtype: object\n",
            "question    ขอถามรายละเอียดรถรุ่นNissan almeraหน่อยค่ะ\n",
            "Name: 361, dtype: object\n",
            "question    คิดว่าดีไหมคะตัวยูเซอรีน เราซื้อมาเเล้วค่ะ\n",
            "Name: 362, dtype: object\n",
            "question    เซ็ตนี้ให้บริการตั้งแต่กี่โมง ถึงกี่โมงคะ?\n",
            "Name: 363, dtype: object\n",
            "question    โทษบุรี่ไฟฟ้ากับกัญชาอาไรร้ายแรงกว่ากันคับ\n",
            "Name: 364, dtype: object\n",
            "question    ปิคอัพ โตโยต้า ไทเกอร์ แคป ราคาเท่าไหร่คับ\n",
            "Name: 365, dtype: object\n",
            "question    มุสลิมทานได้ ถ้าเราไม่สั่งเมนูหมูใช่มั้ยคะ\n",
            "Name: 366, dtype: object\n",
            "question    เซนทรัลเฟส เชียงใหม่ เซนทรัลลำปาง ร่วมไหมคะ\n",
            "Name: 367, dtype: object\n",
            "question    นาวาร่าแคปผ่อน6พันเท่าไรแร่ะผ่อนกี่เดือนคับ\n",
            "Name: 368, dtype: object\n",
            "question    บลัชthe saemที่เกาหรีเท่าไหร่คะพี่นน กี่วอน\n",
            "Name: 369, dtype: object\n",
            "question    เปลี่ยนยาง ช่สงนี้เท่าไหร่คะ ฮอนด้าซิตี้ค่ะ\n",
            "Name: 370, dtype: object\n",
            "question    เมื่อไหร่จะเปิด mk gold ย่านหนองแขมบ้างครับ\n",
            "Name: 371, dtype: object\n",
            "question    ais กับ dtac ไรดีกว่านี่จะไปย้ายค่ายแต่ลังเล\n",
            "Name: 373, dtype: object\n",
            "question    ถ้าใช้สิทธิ์คนที่สอง 50% คนแรกจ่ายเท่าไหร่คะ\n",
            "Name: 375, dtype: object\n",
            "question    พี่มีดีแม็กเอ็กซีรี่ตัวไฟตัดหมอกเดไร้ใหมครับ\n",
            "Name: 377, dtype: object\n",
            "question    ยาริสใหม่น่าใช้ไหมคับเทียบกับค่ายอื่นด้วยคับ\n",
            "Name: 378, dtype: object\n",
            "question    อัลเมร่า ต้องดาวน์เท่าไรคะ จึงจะไม่ใช้ผุ้ค้ำ\n",
            "Name: 380, dtype: object\n",
            "question    ใช้มาสคาร่าเดอะเฟสชอปแล้วจะสวยแบบนี้จริงไหมคะ\n",
            "Name: 381, dtype: object\n",
            "question    ทำไมเข้าเวปนี้ไม่ได้เวปเดียว เครือข่ายเดียวคะ\n",
            "Name: 382, dtype: object\n",
            "question    ผม150/50 จ่าย749 บาทจะได้อัพสปีดกับเขาไหมครับ\n",
            "Name: 383, dtype: object\n",
            "question    รถซูซูกิทำจากที่ไหนทำในไทยหรืออินโดนีเซียครับ\n",
            "Name: 384, dtype: object\n",
            "question    โฮลิกาๆกับคิ้วเพลสมายเมโลดี้อะไรจะดีกว่ากันวะ\n",
            "Name: 385, dtype: object\n",
            "question    Celerio 4999 จบเลยหราคะ. ผ่อนเดือนละเท่าไหร่ค\n",
            "Name: 386, dtype: object\n",
            "question    Sulwhasoo กับ history of whoo อะไรดีกว่ากัลลล\n",
            "Name: 387, dtype: object\n",
            "question    พี่นีคะ ยังมีลิปของ 3ce ที่ขายเป็นคู่อยู่ไหมค\n",
            "Name: 391, dtype: object\n",
            "question    honda city รุ่นใหม่ๆนี้ จะไม่ทำ CNG แล้วหรอคร\n",
            "Name: 393, dtype: object\n",
            "question    ระหว่างตัวนี้กับสิวันนาตัวไหนน่าจะแมทกว่ากันค\n",
            "Name: 395, dtype: object\n",
            "question    สาขาไหนจังปวัดไหนราคา99 บาทค่ะ มีกำหนดวันไหนค\n",
            "Name: 396, dtype: object\n",
            "question    4เดือนผ่านโปรแล้วออกได้มัยวีออส18000ต่อเดือนค\n",
            "Name: 397, dtype: object\n",
            "question    ทำไมรถฟอร์ดไม่ใส่ ครีบฉลาม Shark Fin มาให้ด้ว\n",
            "Name: 398, dtype: object\n",
            "question    นกแอร์กับแอร์เอเชียเที่ยวบินไประนองยกเลิกมั้ย\n",
            "Name: 399, dtype: object\n",
            "question    สาขาซีคอนสแควร์ศรีนครินทร์ปรับปรุงเสร็จรึยังค\n",
            "Name: 400, dtype: object\n",
            "question    ขอคำแนะนำหน่อยครับ ยาริสเราใส่แม๊กขอบอะรัยดี\n",
            "Name: 401, dtype: object\n",
            "question    ถ้าจะสั่งต้องทำงาน มีบริการส่งมั้ย เสียค่าส่ง\n",
            "Name: 403, dtype: object\n",
            "question    มาสด้า3ครับส่วนลดเท่าไรครับขอลายล่ะเอียดหน่อย\n",
            "Name: 405, dtype: object\n",
            "question    มีใครพอจะรู้ราคา aesop แบบราคาวอนมั่งอะ หาจนต\n",
            "Name: 406, dtype: object\n",
            "question    ยาริส 2014 กับ​สวิฟ 2014 แนะนำหน่อยครับ​ คันไ\n",
            "Name: 407, dtype: object\n",
            "question    ยาริสปี2007ไมค์100000ต้องทำการเปลี่ยนอะไรบ้าง\n",
            "Name: 408, dtype: object\n",
            "question    แล้วการฟื้นฟูผิวหย่อนคล้อยนี่ใช้ตัวนี้ได้เลยห\n",
            "Name: 409, dtype: object\n",
            "question    mask หน้าของ the face shop ซื้อ 5 อถม 5 ควรตำ\n",
            "Name: 410, dtype: object\n",
            "question    ขอรายละเอียดมาสด้า 3 เพิ่มเติมคับ. เข้าดูไม่ท\n",
            "Name: 411, dtype: object\n",
            "question    ซีซีครีมของยูเซอรีนขนาดทดลองยังมีจำหน่ายอยู่ม\n",
            "Name: 412, dtype: object\n",
            "question    ไอน้ำบุหรี่ไฟฟ้า มีผลต่อเด็กมั้ยครับพอดีผมมีล\n",
            "Name: 413, dtype: object\n",
            "question    ysl ไม่เคยลองอะ แต่เอสเต่พี่ใช่ตอนแบบ ไปงานตา\n",
            "Name: 414, dtype: object\n",
            "question    camry ตาเหยี่ยวกับ altis หน้าแบน เลือกอะไรดี\n",
            "Name: 417, dtype: object\n",
            "question    กดสิวมา มาส์กหน้าได้มั้ยคะหน่อง (มาส์ก kose ส\n",
            "Name: 418, dtype: object\n",
            "question    เครื่องสำอางค์ etude ดีไหมคะถ้าไปเกาหลีแนะนำห\n",
            "Name: 419, dtype: object\n",
            "question    จัดอันดับรถระดับโลกให้หน่อยครับว่านิสสันขายดี\n",
            "Name: 420, dtype: object\n",
            "question    ตัว eucerin a.l ทั้งสองตัวมีน้ำหอมกับแอลกอฮอล\n",
            "Name: 421, dtype: object\n",
            "question    ถามหน่อยครับแล้วนิสสัน โน๊ตตัวไฟฟ้าไม่มาแล้วเ\n",
            "Name: 422, dtype: object\n",
            "question    รองพื้นจะหมดแย้วซื้อตัวไหนดี bobbi brown vs l\n",
            "Name: 424, dtype: object\n",
            "question    ดีแม็คเอ็กซ์ชีรี่ย์1.9สี่ประตูน่าใช้ไหมครับใช\n",
            "Name: 425, dtype: object\n",
            "question    ทำไม กระบะมาสด้า ไม่ทำไฟหน้าให้เป็น โปรเจคเตอ\n",
            "Name: 426, dtype: object\n",
            "question    Sulwhasoo แบบเป็นเซต มีเซตไหนบ้างคะ รบกวนขอทร\n",
            "Name: 427, dtype: object\n",
            "question    มะไหร่บาบีก้อนจะจัดบุฟเฟ่ต์จร๊าาาาาาาาาาาาาาา\n",
            "Name: 429, dtype: object\n",
            "question    มาสด้า2 เปลี่ยนน้ำมันเครื่อง+เกียร์+เบรค ขอรา\n",
            "Name: 430, dtype: object\n",
            "question    แล้วเคยใช้ sulwhasoo ที่เป็นครีมไหมคะ อยากทรา\n",
            "Name: 431, dtype: object\n",
            "question    สวัสดีค่ะ ขอถามนิดนึงนะคะ ตอนนี้รับพรี innisf\n",
            "Name: 432, dtype: object\n",
            "question    อยากชมลิป NYX ไปยังคร้า อยากได้ลิปติดทนนานแนะ\n",
            "Name: 434, dtype: object\n",
            "question    กับซูซุกิเซียสขับทางไกลและในเมืองคันไหนน่าใช้\n",
            "Name: 435, dtype: object\n",
            "question    เด็กทานฟรีแล้ว พ่อ-แม่ หัวเท่าไรครับ (อย่าบอก\n",
            "Name: 436, dtype: object\n",
            "question    อยากลองซักอย่างของคีลส์เอาดาร์กสปอท หรือที่ทา\n",
            "Name: 438, dtype: object\n",
            "question    ขอบ 14 ชุบ กว้าง 6.5 ชุปใบเท่าไรครับ. ล้อรถยน\n",
            "Name: 439, dtype: object\n",
            "question    จ่าขอความรู้หน่อยบุหรี่ไฟฟ้าข้อเสีย สุขภาพอย่\n",
            "Name: 440, dtype: object\n",
            "question    ทำไมไม่มีรณรงเลิกสูบบุหรี่ไฟฟ้าหรอครับ หรือข้\n",
            "Name: 441, dtype: object\n",
            "question    รอ xpander ไหมครับ mitsubishi เห็นว่าไม่แพงจะ\n",
            "Name: 442, dtype: object\n",
            "question    คูชั่นsephoraใช้ดีไหม ผิวมันมากกกก เบาบางไหม\n",
            "Name: 443, dtype: object\n",
            "question    299จบเลย หรือมีชาตค่าไรเพิ่มปะคับ เช่นมันกุ้ง\n",
            "Name: 444, dtype: object\n",
            "question    ทำไมคะแนนจากกต.กับทางบ้านไม่เท่ากันอ่ะ? https\n",
            "Name: 445, dtype: object\n",
            "question    โน๊ต กับ อเมร่า ดาวน์เท่าไหร่ ผ่อนเท่าไหร่คะ\n",
            "Name: 446, dtype: object\n",
            "question    มีใครแถวนี้ใช้แชมพูสระผมของโดฟไหมคะ อยากถามอะ\n",
            "Name: 447, dtype: object\n",
            "question    Ford ranger 3.2 4x4 สีขาว 4ประตู ปี13 ราคา650\n",
            "Name: 448, dtype: object\n",
            "question    ดีแมก์ ถ่ายน้ำมันเครื่อง 220,000 โล ใข้อะไรดี\n",
            "Name: 449, dtype: object\n",
            "question    ดีแม็ค4ประตู สีขาว คันข้างๆดาวน์เท่ารัยค่าบ ผ\n",
            "Name: 450, dtype: object\n",
            "question    น้องมดน้ำตบเอสเต้กับSKll ตัวไหนโอกว่ากันจ๊ะ ส\n",
            "Name: 451, dtype: object\n",
            "question    ไปซื้อ 4 ชิ้น100 ได้เลยใช่มั้ยค่ะ หรือต้องซื้\n",
            "Name: 452, dtype: object\n",
            "question    มีข่าวรีโว่ร็อคโค่ ตัว 2.4L ไหมครับ ที้จะออกม\n",
            "Name: 453, dtype: object\n",
            "question    โอเคค่า แล้วตัวลิป Bobbi brown สี Cranberry ย\n",
            "Name: 454, dtype: object\n",
            "question    ถ้า มิว เซเว่น มีโปรไหมครับ ถ้าจะเทิรนรถเก่าi\n",
            "Name: 456, dtype: object\n",
            "question    บุหรี่ไฟฟ้าขายส่ง ถ้าครบเซ็ตทั้ง ถ่าน+นํ้ายา.\n",
            "Name: 457, dtype: object\n",
            "question    คุชชั่นสนthe face shop มีเยอะแยะมากก อยากรู้ว\n",
            "Name: 459, dtype: object\n",
            "question    จองรีโว่สักคันได้ก่อคับขอเกียร์ออโต้น่ะคับขอร\n",
            "Name: 460, dtype: object\n",
            "question    ถ้าพรีลิปmamonde มาแต่แท่งละ240 เบอร์11 กับ23\n",
            "Name: 462, dtype: object\n",
            "question    รีวิวครีมกันแดดอันนั้นหายไปไหนแล้วหว่า มันคือ\n",
            "Name: 463, dtype: object\n",
            "question    อยากลองใช้ K+ ของลาโรชมากๆเลย ไม่รู้จะช่วยสิว\n",
            "Name: 464, dtype: object\n",
            "question    ใครใช้ physiogel ai cream บ้าง ควรตำมั้ยยยย ห\n",
            "Name: 465, dtype: object\n",
            "question    ตัดผ่านบัตรเครดิตอัตโนมัติได้ด้วยไหมครับเพราะ\n",
            "Name: 466, dtype: object\n",
            "question    พี่ลิคคะ รองพื้นลอริออลฝาแดงกับแบบหลอด พี่ลิค\n",
            "Name: 467, dtype: object\n",
            "question    ราคานี้เฉพาะ จันทร์ถึงศุกร์ ก่อนวันที่ 31 ม.ค\n",
            "Name: 468, dtype: object\n",
            "question    ของนิสสันนี่ฝรั่งเศสถือหุ้นกี่เปอร์เซ็นต์หรอค\n",
            "Name: 469, dtype: object\n",
            "question    คุณดรีมคะ sulwhasoo หลังจากเข้าวันอาทิตย์นี้\n",
            "Name: 470, dtype: object\n",
            "question    ซูซูกิ อารีมิตร มหาสารคาม ถ้าดาว70,000จะส่งงว\n",
            "Name: 471, dtype: object\n",
            "question    พรบ.คู่ชีวิตไทยนี่ถึงไหนแล้วคะ ไต้หวันไปไกลแล\n",
            "Name: 472, dtype: object\n",
            "question    สนใจเทรลเบลเซอร์วันออกรถใช้เงินเท่าไหร่คับ ขอ\n",
            "Name: 473, dtype: object\n",
            "question    ถามอาจารยxว่า mg zs เครื่อง1500 ขับออกต่างจัง\n",
            "Name: 474, dtype: object\n",
            "question    ระหว่างลิป holika กับ ysl ควรเลือกอันไหนดีคะ\n",
            "Name: 475, dtype: object\n",
            "question    ละเสาร์ อาทิตย์ คิดยังไม่คะ ราคาเต็มหรอ ซุป 4\n",
            "Name: 476, dtype: object\n",
            "question    VIOS ดาวน์เท่าไร ผ่อนกี่งวด ๆ ละเท่าไรครับ อย\n",
            "Name: 477, dtype: object\n",
            "question    ต้องเงินเดือนเท่าไหร่คะถึงซื้อ kiehl’s แบบยกเ\n",
            "Name: 478, dtype: object\n",
            "question    แล้ว2GB 14วัน ยังได้เหมือนเดิมปกติรึป่าวครับ\n",
            "Name: 479, dtype: object\n",
            "question    อยากทราบทุกวันนี้เรื่องกฏหมายการบังคับใช้มีอะ\n",
            "Name: 480, dtype: object\n",
            "question    งิ้วมึง+ กำไรหรอ กูเจอใน tops 199 เอาไปหลอก ง\n",
            "Name: 481, dtype: object\n",
            "question    จะออกรถโตโยต้าแบบแดงรุ่นcHrแล้วจะขอเปลี่นยล้อ\n",
            "Name: 482, dtype: object\n",
            "question    ขออนุญาตสอบถามนะครับว่าเหตุผลที่เลือกสูบบุหรี\n",
            "Name: 483, dtype: object\n",
            "question    เซโฟร่าไม่เอาซีซีอิทคอสหลอดชมพูเข้าหลอ อยากด้\n",
            "Name: 484, dtype: object\n",
            "question    สอบถามหน่อยค่าmamondeตัวนี้ใช้ยังไงอะคะทาเช้า\n",
            "Name: 485, dtype: object\n",
            "question    อยากถามค่ะ ตอนนี้มีบัตร 7 card และบัตร all mo\n",
            "Name: 486, dtype: object\n",
            "question    Garnier แก้ฝ้าใช้แล้ว จะยังใช้สลิปปิงมาคส์ได้\n",
            "Name: 488, dtype: object\n",
            "question    ใครเคยใช้รองพื้นศรีจันทร์บ้างอ่ะ เป็นไง คุมมั\n",
            "Name: 489, dtype: object\n",
            "question    honda city zx ปี 2003 - 2006 มือสองปัจจุบันยั\n",
            "Name: 490, dtype: object\n",
            "question    รถ suv พวก cr-v cx-5 x-trail จำเป็นต้องใช้แต่\n",
            "Name: 491, dtype: object\n",
            "question    รบกวนสอบถามหน่อยครับ ถ้าซื้อรถมาสด้าจะมีประกั\n",
            "Name: 492, dtype: object\n",
            "question    สวัสดีค่ะ ขอถามหน่อย cathy doll whitening sun\n",
            "Name: 493, dtype: object\n",
            "question    อยากติดเนตบ้านโปรแรงๆที่ติดแล้วเนตคงที่ไม่ลด\n",
            "Name: 494, dtype: object\n",
            "question    ช่วยเช้คให้หน่อยค่ะ i6 s ราคาเครื่องผ่อน ใน ช\n",
            "Name: 495, dtype: object\n",
            "question    เทาไปปารีสวันที่ 9 งาน น้ำหอม ysl เปิดตัววันท\n",
            "Name: 496, dtype: object\n",
            "question    อยากกิงบาบีก้อนบุฟอีกอ่ะ ทำไมมันยังไม่บุฟ คิด\n",
            "Name: 497, dtype: object\n",
            "question    ป๋าครับ เดทแรปบิด 2 คอย เวลาใส่ลวด ยกขึ้น สูง\n",
            "Name: 500, dtype: object\n",
            "question    จะออกรถไฮลัครีโว่ 2.4แคปmtตอนนี้ส่วนลดกับดอกเ\n",
            "Name: 502, dtype: object\n",
            "question    แจ้งปัญหาอินเตอร์เน็ตใช้การไม่ได้ครับ ไม่มีไฟ\n",
            "Name: 503, dtype: object\n",
            "question    จะหาครีมกันแดดเนื้อเหลว ๆ ไม่หนึบสำหรับเด็กขอ\n",
            "Name: 505, dtype: object\n",
            "question    มีใครเคยใช้ laneige water sleeping mask บ้างค\n",
            "Name: 506, dtype: object\n",
            "question    ช่วยรีวิว estee vs bobbi brown ค่ะ อยากทราบคว\n",
            "Name: 507, dtype: object\n",
            "question    ผมซื้อวีออส 2006 มือสองมา ต้องดูแลอะไรเป็นพิเ\n",
            "Name: 509, dtype: object\n",
            "question    ผม เดือนละ 700 100/30 ต้องไปแจ้งเรื่องเปลี่ยน\n",
            "Name: 511, dtype: object\n",
            "question    มีใครจะฝากสั่ง sephora มั้ยยย ไม่คิดค่าหิ้วคิ\n",
            "Name: 512, dtype: object\n",
            "question    โลชั่นของ Cetaphil เป็นไงบ้างคะ เราเล็งไว้อยู\n",
            "Name: 513, dtype: object\n",
            "question    รถมือสอง vios 2012 กับ city 2012 ตัวไหนน่าเล่\n",
            "Name: 514, dtype: object\n",
            "question    คอนซีลเลอร์ tart กับ nars อันไหนดีกว่าอ่ะ #Ho\n",
            "Name: 515, dtype: object\n",
            "question    ชอบรถmgมานานแล้วน่ารักมากค่ะ ขออนุญาติสอบถามค\n",
            "Name: 516, dtype: object\n",
            "question    อาการกล่องข้างเครื่องใกล้พัง เป็นแบบไหนครับ ม\n",
            "Name: 517, dtype: object\n",
            "question    ทุกสาขาไหนก็ได้ใช่ไหมคะ ไอคีมอันใหญ่ไหมอะคะ ท\n",
            "Name: 518, dtype: object\n",
            "question    สำหรับบัตรสมาชิกถ้าถึงวันเกิดต้องจองล่วงหน้าห\n",
            "Name: 519, dtype: object\n",
            "question    เป็นสิวอุดตัน + สิวผด ใช้ ลาโรช ตัวไหนดีคะ ระ\n",
            "Name: 520, dtype: object\n",
            "question    อยากทราบว่าคุณจิมมี่มีคิวทดสอบอัตราเร่ง-อัตรา\n",
            "Name: 521, dtype: object\n",
            "question    Vios gen2 มีข้อดี,ข้อเสีย อย่างไรบ้างครับ พอด\n",
            "Name: 523, dtype: object\n",
            "question    คุณแก้ม พาเลท tarte ตัวนี้กับ the balm nude b\n",
            "Name: 524, dtype: object\n",
            "question    ผมขอถามหน่อยครับ ทางฮอนด้า อ่างทองสามารถปลดรู\n",
            "Name: 525, dtype: object\n",
            "question    รองพื้น armani เบอ 3.5 กับ 4 อันไหนขาวกว่าคะ\n",
            "Name: 526, dtype: object\n",
            "question    คู่แข่งเขาไปถึงไหนกันแล้วทำไมถึงพึ่งมา เอ้า แ\n",
            "Name: 527, dtype: object\n",
            "question    แอคคอรด์vsแคมรี่ มือ2ปี2013-14 ตัวไหนคุ้มกว่า\n",
            "Name: 528, dtype: object\n",
            "question    ถ้างบไม่ถึง 320D ผมสามารถซื้อ Mazda3แก้ขัดแทน\n",
            "Name: 529, dtype: object\n",
            "question    ถ้าให้เลือกfoundation stick ระหว่างysl กับ La\n",
            "Name: 530, dtype: object\n",
            "question    ขอนุญาตินอกเรื่องกูข้องใจนานละ เมื่อไหร่sexto\n",
            "Name: 531, dtype: object\n",
            "question    ขอสอบถามเซลล์โตโยต้าหน่อยครับผม Toyota Yaris\n",
            "Name: 532, dtype: object\n",
            "question    นั่นสิ555555 พี่แสนรักขอเลือกติดทนละกันน แต่ว\n",
            "Name: 534, dtype: object\n",
            "question    มีใครเคยใช้ Origins Mega-Mushroom Lotion มั้ย\n",
            "Name: 535, dtype: object\n",
            "question    ระหว่าง Mazda 2 เบนซิน 1.3 ลิตร กับ Suzuki Sw\n",
            "Name: 536, dtype: object\n",
            "question    แนะนำลิปหน่อยค่ะ ตอนนี้ลิป peripera หมด ขอเป็\n",
            "Name: 537, dtype: object\n",
            "question    มีใครเคยใช้ Kose mask ไหมคะ ช่วยรีวิวทีค่ะ อย\n",
            "Name: 539, dtype: object\n",
            "question    ลังเลว่าจะเอา civic hatchback หรือ mazda cx5\n",
            "Name: 540, dtype: object\n",
            "question    สิวอุดตันขึ้นหน้าหนักมาก แพ้อะไรเนี่ย รอบพื้น\n",
            "Name: 541, dtype: object\n",
            "question    ระหว่าง Toyota Hilux Revo Rocco กับ Isuzu D-M\n",
            "Name: 542, dtype: object\n",
            "question    Dmaxปี2007ผมพึ่งเปลี่ยนไส้หัวฉีดมาวิ่งในกทมได\n",
            "Name: 543, dtype: object\n",
            "question    ครีมรองพื้นของl'oreal แบบหลอดกับ cute pressตั\n",
            "Name: 544, dtype: object\n",
            "question    ตัวเซรั่มปัดขนตาให้ยาวของอิทูดี้นี่ ถ้าเอามาป\n",
            "Name: 545, dtype: object\n",
            "question    พี่พีชคะ ตัว la roche posay effaclar duo กับ\n",
            "Name: 546, dtype: object\n",
            "question    มีใครไปเกาหลีหรือเห็นร้านรับพรีไหมคะ อยากได้ล\n",
            "Name: 547, dtype: object\n",
            "question    ผมอยากเปลี่ยนรถทำได้ไหมครับตอนนี้มียาริสปี201\n",
            "Name: 550, dtype: object\n",
            "question    ตอนนี้ผมใช้เน็ตจากเร้าเตอร์ทรู แล้วไม่สามารถเ\n",
            "Name: 551, dtype: object\n",
            "question    มีใครอยากได้ลิปอินนิสฟรีพี่องอยู่มั้ยอ่ะ เก็บ\n",
            "Name: 552, dtype: object\n",
            "question    พี่ตุ๊กตาาาา อยากรู้ว่าลิป wet n wild สีbare\n",
            "Name: 554, dtype: object\n",
            "question    เจ้าของบัตรไม่ได้ไปรับเอง ได้ไหมคะ ต้องโชว์บั\n",
            "Name: 555, dtype: object\n",
            "question    เเป้งคิ้วเพลสนี่ดีมั้ยอะะ ลังเลอยู่55555555 อ\n",
            "Name: 557, dtype: object\n",
            "question    ของฮาดะลาโบะ ทำไมเซเว่นแถวบ้านไม่มี 😭😭 มันใช้\n",
            "Name: 558, dtype: object\n",
            "question    เฮียครับสายพานหน้าเครื่องวีโก้2500 ขับมาแล้ว\n",
            "Name: 559, dtype: object\n",
            "question    1.แล้ว vit c แบบ AA2G ดีมั้ยคะ 2. ถ้ามีปัญหาส\n",
            "Name: 560, dtype: object\n",
            "question    ถามครับยาริสตัวใหม่ที่ผมใช้อยู่มีที่ปะยางแต่ท\n",
            "Name: 561, dtype: object\n",
            "question    อยากรู้ว่า บุหรี่ไฟ้ฟ้าเนี่ยมีผลต่อ เด็กเล็กม\n",
            "Name: 562, dtype: object\n",
            "question    สวัสดีค่ะ เราขอสอบถามเรื่องการขึ้นรถไฟฟ้าTHSR\n",
            "Name: 563, dtype: object\n",
            "question    สอบถามครับ พอดีจะเปลี่ยนยางแต่ไม่ค่อยมีความรู\n",
            "Name: 564, dtype: object\n",
            "question    อยากทราบว่า พอนด์ส ไวท์ บิวตี้ เดย์ครีม เอสพี\n",
            "Name: 565, dtype: object\n",
            "question    แนะนำครีมบำรุงผิวหน้า ผู้ชายหน่อยยย ยูเซอรีน\n",
            "Name: 566, dtype: object\n",
            "question    รบกวนถามพี่จิมมี่ครับ Nissan Note e e-power ท\n",
            "Name: 567, dtype: object\n",
            "question    สนใจ honda jazz ขอรายละเอียดกับโปรโมชั่นหน่อย\n",
            "Name: 570, dtype: object\n",
            "question    โอนจากไหนไปไหน ปกติเติมเงินจากบัญชีธนาคารเติม\n",
            "Name: 571, dtype: object\n",
            "question    สอบถามครับ สายพานหน้าเครื่อง Nissan March มัน\n",
            "Name: 573, dtype: object\n",
            "question    พี่ขวัญคะ ถ้าเรามี ซุลวาซุลเฟิร์สแคร์ กับ vic\n",
            "Name: 575, dtype: object\n",
            "question    มีสาวผิวเหลืองคนไหนลองใช้รองพื้นรุ่นใหม่ล่าสุ\n",
            "Name: 576, dtype: object\n",
            "question    แอดมินคะ ทำไม True Money Wallet หักเงินคงเหลื\n",
            "Name: 577, dtype: object\n",
            "question    แนะนำลิปของ cute press สีส้มอิฐหน่อยครับ อันไ\n",
            "Name: 578, dtype: object\n",
            "question    เวลาวิ่งที่ความเร็ว 80 ขึ้นไปพวงมาลัยจะสั่นคร\n",
            "Name: 579, dtype: object\n",
            "question    วิธีซื้อรถมือสองต้องดูยังไงดีครับตอนนั้นพีจิม\n",
            "Name: 580, dtype: object\n",
            "question    กำลังจะเริ่ม skincare 2 ตัวคือ stemfactor กับ\n",
            "Name: 583, dtype: object\n",
            "question    พี่คะ หนูอยากสอบถามเรื่องนึงค่ะ อาจะไม่เกี่ยว\n",
            "Name: 584, dtype: object\n"
          ]
        }
      ]
    },
    {
      "cell_type": "code",
      "source": [],
      "metadata": {
        "id": "SFrbSGJBTI35"
      },
      "execution_count": null,
      "outputs": []
    }
  ]
}